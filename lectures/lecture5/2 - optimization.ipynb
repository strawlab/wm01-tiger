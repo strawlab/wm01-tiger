{
 "cells": [
  {
   "cell_type": "markdown",
   "metadata": {},
   "source": [
    "# Optimization\n",
    "\n",
    "Let's consider the following code:"
   ]
  },
  {
   "cell_type": "code",
   "execution_count": 1,
   "metadata": {},
   "outputs": [
    {
     "data": {
      "text/plain": [
       "Text(0, 0.5, 'y')"
      ]
     },
     "execution_count": 1,
     "metadata": {},
     "output_type": "execute_result"
    },
    {
     "data": {
      "image/png": "[encoded data removed]",
      "text/plain": [
       "<Figure size 432x288 with 1 Axes>"
      ]
     },
     "metadata": {
      "needs_background": "light"
     },
     "output_type": "display_data"
    }
   ],
   "source": [
    "import numpy as np\n",
    "import matplotlib.pyplot as plt\n",
    "\n",
    "flower = np.array([29.1, 19.1])\n",
    "\n",
    "def make_bee_track(t):\n",
    "    \"\"\"Find bee position at time t\"\"\"\n",
    "    pos0 = (13.21, 4.56)\n",
    "    velocity = (3.1, 0.25)\n",
    "    pos_x = pos0[0] + t*velocity[0]\n",
    "    pos_y = pos0[1] + t*velocity[1]\n",
    "    return np.array([pos_x,pos_y])\n",
    "\n",
    "t = np.linspace(0,15,20)\n",
    "bee_track = make_bee_track(t)\n",
    "\n",
    "fig, ax = plt.subplots(nrows=1, ncols=1)\n",
    "ax.plot( [flower[0]], [flower[1]], 'or', label='flower' )\n",
    "ax.plot( bee_track[0], bee_track[1], '.-k', label='bee')\n",
    "ax.axis('equal')\n",
    "ax.legend()\n",
    "ax.set_xlabel('x')\n",
    "ax.set_ylabel('y')\n"
   ]
  },
  {
   "cell_type": "markdown",
   "metadata": {},
   "source": [
    "In the above code, we *parameterized* the bee trajectory by the variable `t` in the function `make_bee_track()`. This means we could get a new point on the track by choosing a new value of `t`. For example:"
   ]
  },
  {
   "cell_type": "code",
   "execution_count": 2,
   "metadata": {},
   "outputs": [
    {
     "name": "stdout",
     "output_type": "stream",
     "text": [
      "[13.21  4.56]\n",
      "[13.52   4.585]\n",
      "[13.83  4.61]\n",
      "[16.31  4.81]\n"
     ]
    }
   ],
   "source": [
    "print(make_bee_track(0.0))\n",
    "print(make_bee_track(0.1))\n",
    "print(make_bee_track(0.2))\n",
    "print(make_bee_track(1.0))"
   ]
  },
  {
   "cell_type": "markdown",
   "metadata": {},
   "source": [
    "Now let's measure the distance between the bee and the flower."
   ]
  },
  {
   "cell_type": "code",
   "execution_count": 3,
   "metadata": {},
   "outputs": [
    {
     "data": {
      "text/plain": [
       "array([21.5384238 , 19.65745213, 17.91603421, 16.358798  , 15.0430514 ,\n",
       "       14.03686758, 13.41010965, 13.21686661, 13.4758012 , 14.16213282,\n",
       "       15.21814467, 16.57332137, 18.16081408, 19.92517222, 21.82354098,\n",
       "       23.82390662, 25.9026494 , 28.04234472, 30.23005263, 32.45606569])"
      ]
     },
     "metadata": {},
     "output_type": "display_data"
    },
    {
     "data": {
      "text/plain": [
       "Text(0, 0.5, 'distance')"
      ]
     },
     "execution_count": 3,
     "metadata": {},
     "output_type": "execute_result"
    },
    {
     "data": {
      "image/png": "[encoded data removed]",
      "text/plain": [
       "<Figure size 432x288 with 1 Axes>"
      ]
     },
     "metadata": {
      "needs_background": "light"
     },
     "output_type": "display_data"
    }
   ],
   "source": [
    "def compute_distance(a,b):\n",
    "    a = np.array(a)\n",
    "    b = np.array(b)\n",
    "    return np.sqrt(np.sum((a-b)**2))\n",
    "\n",
    "distance = np.zeros(bee_track.shape[1])\n",
    "for i in range(bee_track.shape[1]):\n",
    "    bee_pos = bee_track[:,i]\n",
    "    distance[i] = compute_distance(bee_pos, flower )\n",
    "display(distance)\n",
    "\n",
    "fig, ax = plt.subplots(nrows=1, ncols=1)\n",
    "ax.plot( t, distance )\n",
    "ax.set_xlabel('t')\n",
    "ax.set_ylabel('distance')"
   ]
  },
  {
   "cell_type": "markdown",
   "metadata": {},
   "source": [
    "Given the plot of distance versus t above, we can see the distance is minimized when t is near 5. What is the bee's position when t is 5?"
   ]
  },
  {
   "cell_type": "code",
   "execution_count": 4,
   "metadata": {},
   "outputs": [
    {
     "name": "stdout",
     "output_type": "stream",
     "text": [
      "[28.71  5.81]\n"
     ]
    }
   ],
   "source": [
    "print(make_bee_track(5))"
   ]
  },
  {
   "cell_type": "markdown",
   "metadata": {},
   "source": [
    "We can check back to the xy plot to see, indeed, this point is pretty close to the flower.\n",
    "\n",
    "What if we want to know, however, exactly the closest point? There are several ways to find this. Here we are going to use a \"brute force\" approach which will work on many different problems. Specifically, we will use [scipy.optimize.minimize_scalar](https://docs.scipy.org/doc/scipy/reference/generated/scipy.optimize.minimize_scalar.html). The overall idea of this kind of *numerical optimization* is that we find the best fitting parameter to minimize our \"error\".\n",
    "\n",
    "In this example, we are not so much concerned with the exact algorithm being used, but with the way we call this algorithm.\n",
    "\n",
    "We will make a class to do this:"
   ]
  },
  {
   "cell_type": "code",
   "execution_count": 5,
   "metadata": {},
   "outputs": [
    {
     "name": "stdout",
     "output_type": "stream",
     "text": [
      "t: 0.0 -> dist: 21.538423804912004\n",
      "t: 1.0 -> dist: 19.17780487959975\n",
      "t: 2.6180339999999998 -> dist: 15.913623755962107\n",
      "t: 9.502603885705089 -> dist: 18.222622377854467\n",
      "t: 2.6180339999999998 -> dist: 15.913623755962107\n",
      "t: 5.24770562096323 -> dist: 13.233470063982764\n",
      "t: 6.8729320915536185 -> dist: 13.918754747176704\n",
      "t: 5.437736318938615 -> dist: 13.215989304828\n",
      "t: 5.47123644934229 -> dist: 13.215645882055249\n",
      "t: 5.468503780784455 -> dist: 13.215643128079853\n",
      "t: 5.468493134264144 -> dist: 13.2156431280385\n",
      "t: 5.468493215207842 -> dist: 13.215643128038504\n",
      "t: 5.468493053320446 -> dist: 13.215643128038506\n"
     ]
    }
   ],
   "source": [
    "class DistanceFinder:\n",
    "    def __init__(self, flower):\n",
    "        self.flower = flower\n",
    "    def calc_distance(self, t):\n",
    "        x1, y1 = self.flower\n",
    "        x2, y2 = make_bee_track(t)\n",
    "        dist = compute_distance((x1,y1), (x2,y2))\n",
    "        print(f't: {t} -> dist: {dist}')\n",
    "        return dist\n",
    "    \n",
    "distance_finder = DistanceFinder(flower)\n",
    "\n",
    "import scipy.optimize\n",
    "result = scipy.optimize.minimize_scalar(distance_finder.calc_distance)"
   ]
  },
  {
   "cell_type": "code",
   "execution_count": 6,
   "metadata": {},
   "outputs": [],
   "source": [
    "scipy.optimize.minimize_scalar??"
   ]
  },
  {
   "cell_type": "code",
   "execution_count": 7,
   "metadata": {},
   "outputs": [
    {
     "data": {
      "text/plain": [
       "     fun: 13.2156431280385\n",
       " message: '\\nOptimization terminated successfully;\\nThe returned value satisfies the termination criteria\\n(using xtol = 1.48e-08 )'\n",
       "    nfev: 13\n",
       "     nit: 8\n",
       " success: True\n",
       "       x: 5.468493134264144"
      ]
     },
     "execution_count": 7,
     "metadata": {},
     "output_type": "execute_result"
    }
   ],
   "source": [
    "result"
   ]
  },
  {
   "cell_type": "code",
   "execution_count": 8,
   "metadata": {},
   "outputs": [
    {
     "data": {
      "text/plain": [
       "scipy.optimize._optimize.OptimizeResult"
      ]
     },
     "execution_count": 8,
     "metadata": {},
     "output_type": "execute_result"
    }
   ],
   "source": [
    "type(result)"
   ]
  },
  {
   "cell_type": "code",
   "execution_count": 9,
   "metadata": {},
   "outputs": [
    {
     "data": {
      "text/plain": [
       "5.468493134264144"
      ]
     },
     "execution_count": 9,
     "metadata": {},
     "output_type": "execute_result"
    }
   ],
   "source": [
    "result.x"
   ]
  },
  {
   "cell_type": "code",
   "execution_count": 10,
   "metadata": {},
   "outputs": [
    {
     "name": "stdout",
     "output_type": "stream",
     "text": [
      "t: 5 -> dist: 13.295721116208782\n",
      "13.295721116208782\n"
     ]
    }
   ],
   "source": [
    "print(distance_finder.calc_distance(5))"
   ]
  },
  {
   "cell_type": "code",
   "execution_count": 11,
   "metadata": {},
   "outputs": [
    {
     "data": {
      "text/plain": [
       "array([30.16232872,  5.92712328])"
      ]
     },
     "execution_count": 11,
     "metadata": {},
     "output_type": "execute_result"
    }
   ],
   "source": [
    "# Where is the bee for this value of `t`?\n",
    "make_bee_track(5.468493134264144)"
   ]
  }
 ],
 "metadata": {
  "kernelspec": {
   "display_name": "Python 3 (ipykernel)",
   "language": "python",
   "name": "python3"
  },
  "language_info": {
   "codemirror_mode": {
    "name": "ipython",
    "version": 3
   },
   "file_extension": ".py",
   "mimetype": "text/x-python",
   "name": "python",
   "nbconvert_exporter": "python",
   "pygments_lexer": "ipython3",
   "version": "3.10.4"
  }
 },
 "nbformat": 4,
 "nbformat_minor": 4
}
