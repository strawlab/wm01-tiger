{
 "cells": [
  {
   "cell_type": "markdown",
   "id": "7a468706",
   "metadata": {},
   "source": [
    "# Notes and review\n",
    "\n",
    "Reminder: lecture tomorrow in Bio 1 Lecture Hall\n",
    "\n",
    "Available online: \n",
    " - lecture videos. In Ilias (Panopto).\n",
    " - lecture source, exercise source. Linked from Ilias."
   ]
  },
  {
   "cell_type": "code",
   "execution_count": 1,
   "id": "97c81c96",
   "metadata": {},
   "outputs": [],
   "source": [
    "import numpy as np\n",
    "import matplotlib.pyplot as plt"
   ]
  },
  {
   "cell_type": "markdown",
   "id": "56179710",
   "metadata": {},
   "source": [
    "# Review of iterators - live coding"
   ]
  },
  {
   "cell_type": "code",
   "execution_count": 2,
   "id": "9f2f0b6a",
   "metadata": {},
   "outputs": [
    {
     "name": "stdout",
     "output_type": "stream",
     "text": [
      "[(2, 10), (5, 20), (9, 100)]\n",
      "[(0, 10), (1, 20), (2, 30), (3, 40)]\n"
     ]
    }
   ],
   "source": [
    "def get_2D_coordinates(arg0, arg1=None):\n",
    "    if arg1==None:\n",
    "        ys = arg0\n",
    "        xs = list(range(len(ys)))\n",
    "    else:\n",
    "        xs = arg0\n",
    "        ys = arg1\n",
    "        assert len(xs)==len(ys)\n",
    "    result = []\n",
    "    for i in range(len(xs)):\n",
    "        result.append((xs[i], ys[i]))\n",
    "    return result\n",
    "\n",
    "print(get_2D_coordinates([2,5,9],[10,20,100]))\n",
    "print(get_2D_coordinates([10,20,30,40]))"
   ]
  },
  {
   "cell_type": "code",
   "execution_count": 6,
   "id": "4fc732b6",
   "metadata": {},
   "outputs": [
    {
     "name": "stdout",
     "output_type": "stream",
     "text": [
      "my_items [0, 1, 2]\n",
      "i 0\n",
      "i 1\n",
      "i 2\n",
      "[(1, 4), (2, 5), (3, 6)]\n"
     ]
    }
   ],
   "source": [
    "xs = [1,2,3]\n",
    "ys = [4,5,6]\n",
    "result = []\n",
    "\n",
    "# for i in range(len(xs)):\n",
    "#     result.append((xs[i], ys[i]))\n",
    "# print(result)\n",
    "\n",
    "# my_iter = range(len(xs))\n",
    "# while True:\n",
    "#     i_tup = my_iter.next() # This doesn't work. :(\n",
    "#     if len(i_tup):\n",
    "#         i = i_tup[0]\n",
    "#     else:\n",
    "#         break\n",
    "#     result.append((xs[i], ys[i]))\n",
    "# print(result)\n",
    "\n",
    "n_items = len(xs)\n",
    "assert type(n_items)==int\n",
    "my_items = range(n_items)\n",
    "print('my_items',my_items)\n",
    "for i in my_items:\n",
    "    print('i',i)\n",
    "    this_x = xs[i]\n",
    "    this_y = ys[i]\n",
    "    this_coord = (this_x, this_y)\n",
    "    result.append(this_coord)\n",
    "print(result)\n"
   ]
  },
  {
   "cell_type": "code",
   "execution_count": 11,
   "id": "f9c48629",
   "metadata": {},
   "outputs": [
    {
     "name": "stdout",
     "output_type": "stream",
     "text": [
      "0\n",
      "1\n"
     ]
    }
   ],
   "source": [
    "my_dict = {'key1': 1234, 'key2': 5678}\n",
    "for key in range(2):\n",
    "    print(key)"
   ]
  },
  {
   "cell_type": "code",
   "execution_count": 14,
   "id": "8fb0a89e",
   "metadata": {},
   "outputs": [
    {
     "data": {
      "text/plain": [
       "['key1', 'key2']"
      ]
     },
     "execution_count": 14,
     "metadata": {},
     "output_type": "execute_result"
    }
   ],
   "source": [
    "list(my_dict)"
   ]
  },
  {
   "cell_type": "markdown",
   "id": "d48696a1",
   "metadata": {},
   "source": [
    "# Review of slicing in numpy - live coding"
   ]
  },
  {
   "cell_type": "code",
   "execution_count": 48,
   "id": "403cfbc5",
   "metadata": {},
   "outputs": [],
   "source": [
    "# Create a variable called `check` which will contain an 8x8 array of numbers.\n",
    "check = np.zeros((64, 64))\n",
    "y = check[:32:2, :]\n",
    "y[:,:] = 1"
   ]
  },
  {
   "cell_type": "code",
   "execution_count": 49,
   "id": "bf2a28da",
   "metadata": {},
   "outputs": [
    {
     "data": {
      "image/png": "[encoded data removed]",
      "text/plain": [
       "<Figure size 432x288 with 1 Axes>"
      ]
     },
     "metadata": {
      "needs_background": "light"
     },
     "output_type": "display_data"
    }
   ],
   "source": [
    "# Now lets view our 8x8 pixel image:\n",
    "plt.imshow(check, cmap='gray');"
   ]
  },
  {
   "cell_type": "markdown",
   "id": "a19621a7",
   "metadata": {},
   "source": [
    "# \"Classes\" without `class`\n",
    "\n",
    "Previously, we discussed this:"
   ]
  },
  {
   "cell_type": "code",
   "execution_count": 53,
   "id": "d715fc71",
   "metadata": {},
   "outputs": [
    {
     "name": "stdout",
     "output_type": "stream",
     "text": [
      "The insect (species Bombus terrestris) has a mass of 200 milligrams.\n",
      "The insect (species Bombus terrestris) has a mass of 205 milligrams.\n",
      "The insect (species Apis mellifera) has a mass of 100 milligrams.\n",
      "The insect (species Apis mellifera) has a mass of 110 milligrams.\n",
      "205\n",
      "110\n"
     ]
    }
   ],
   "source": [
    "class Insect:\n",
    "    def __init__(self, species_name, mass):\n",
    "        self.species_name = species_name\n",
    "        self.mass = mass\n",
    "    def print_description(self):\n",
    "        print(\"The insect (species {}) has a mass of {} milligrams.\".format(\n",
    "            self.species_name, self.mass))\n",
    "    def eat(self,amount):\n",
    "        # (This could alternatively be done with `self.mass += amount`.)\n",
    "        self.mass = self.mass + amount\n",
    "    def exercise(self,amount):\n",
    "        self.mass = self.mass - amount\n",
    "        \n",
    "x = Insect(\"Bombus terrestris\", 200)\n",
    "x.print_description()\n",
    "x.eat(10)\n",
    "x.exercise(5)\n",
    "x.print_description()\n",
    "\n",
    "y = Insect(\"Apis mellifera\", 100)\n",
    "y.print_description()\n",
    "y.eat(10)\n",
    "y.print_description()\n",
    "\n",
    "print(x.mass)\n",
    "print(y.mass)"
   ]
  },
  {
   "cell_type": "markdown",
   "id": "66f747b6",
   "metadata": {},
   "source": [
    "In fact, there is no need to uses `class` to perform all of this. Here we show the equivalent without using `class`."
   ]
  },
  {
   "cell_type": "code",
   "execution_count": 50,
   "id": "ab4a0a2a",
   "metadata": {},
   "outputs": [],
   "source": [
    "my_data1 = {'species_name': 'Bombus terrestris', 'mass': 200}\n",
    "my_data2 = {'species_name': 'Apis mellifera', 'mass': 100}"
   ]
  },
  {
   "cell_type": "code",
   "execution_count": 51,
   "id": "b4a2b855",
   "metadata": {},
   "outputs": [],
   "source": [
    "def insect_print_description(my_data):\n",
    "    print(\"The insect (species {}) has a mass of {} milligrams.\".format(\n",
    "            my_data['species_name'], my_data['mass']))"
   ]
  },
  {
   "cell_type": "code",
   "execution_count": 52,
   "id": "850e55a2",
   "metadata": {},
   "outputs": [
    {
     "name": "stdout",
     "output_type": "stream",
     "text": [
      "The insect (species Bombus terrestris) has a mass of 200 milligrams.\n"
     ]
    }
   ],
   "source": [
    "insect_print_description(my_data1)"
   ]
  },
  {
   "cell_type": "code",
   "execution_count": 54,
   "id": "d468d22d",
   "metadata": {},
   "outputs": [],
   "source": [
    "def insect_eat(my_data, amount):\n",
    "    my_data['mass'] = my_data['mass'] + amount"
   ]
  },
  {
   "cell_type": "code",
   "execution_count": 55,
   "id": "bd6c82bc",
   "metadata": {},
   "outputs": [],
   "source": [
    "insect_eat(my_data1, 10)"
   ]
  },
  {
   "cell_type": "code",
   "execution_count": 56,
   "id": "3699c86e",
   "metadata": {},
   "outputs": [
    {
     "name": "stdout",
     "output_type": "stream",
     "text": [
      "The insect (species Bombus terrestris) has a mass of 210 milligrams.\n"
     ]
    }
   ],
   "source": [
    "insect_print_description(my_data1)"
   ]
  },
  {
   "cell_type": "code",
   "execution_count": 57,
   "id": "2c2d7a57",
   "metadata": {},
   "outputs": [],
   "source": [
    "def insect_exercise(my_data, amount):\n",
    "    my_data['mass'] = my_data['mass'] - amount"
   ]
  },
  {
   "cell_type": "code",
   "execution_count": 58,
   "id": "6054ff5f",
   "metadata": {},
   "outputs": [],
   "source": [
    "insect_exercise(my_data1, 5)"
   ]
  },
  {
   "cell_type": "code",
   "execution_count": 59,
   "id": "4ed58929",
   "metadata": {},
   "outputs": [
    {
     "name": "stdout",
     "output_type": "stream",
     "text": [
      "The insect (species Bombus terrestris) has a mass of 205 milligrams.\n",
      "The insect (species Apis mellifera) has a mass of 100 milligrams.\n"
     ]
    }
   ],
   "source": [
    "insect_print_description(my_data1)\n",
    "insect_print_description(my_data2)"
   ]
  }
 ],
 "metadata": {
  "kernelspec": {
   "display_name": "Python 3 (ipykernel)",
   "language": "python",
   "name": "python3"
  },
  "language_info": {
   "codemirror_mode": {
    "name": "ipython",
    "version": 3
   },
   "file_extension": ".py",
   "mimetype": "text/x-python",
   "name": "python",
   "nbconvert_exporter": "python",
   "pygments_lexer": "ipython3",
   "version": "3.10.4"
  }
 },
 "nbformat": 4,
 "nbformat_minor": 5
}
