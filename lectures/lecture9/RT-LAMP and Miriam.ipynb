{
 "cells": [
  {
   "cell_type": "markdown",
   "id": "dc31dd91",
   "metadata": {},
   "source": [
    "![Miriam_RT_LAMP.png](Miriam_RT_LAMP.png)\n",
    "\n",
    "Image: https://github.com/strawlab/miriam"
   ]
  },
  {
   "cell_type": "markdown",
   "id": "39a4cc3d",
   "metadata": {},
   "source": [
    "![isothermal.png](isothermal.png)\n",
    "Image: https://international.neb.com/applications/dna-amplification-pcr-and-qpcr/isothermal-amplification"
   ]
  },
  {
   "cell_type": "markdown",
   "id": "b667608f",
   "metadata": {},
   "source": [
    "![fmolb-09-801309-g001.jpg](fmolb-09-801309-g001.jpg)\n",
    "From: https://www.frontiersin.org/articles/10.3389/fmolb.2022.801309/full"
   ]
  },
  {
   "cell_type": "markdown",
   "id": "db451e3b",
   "metadata": {},
   "source": [
    "![m_bio20200034.04.png](m_bio20200034.04.png)\n",
    "Image: https://portlandpress.com/biochemist/article/42/3/48/225280/A-beginner-s-guide-to-RT-PCR-qPCR-and-RT-qPCR "
   ]
  },
  {
   "cell_type": "markdown",
   "id": "13044ba1",
   "metadata": {},
   "source": [
    "<img src=\"Jablonski_Diagram_of_Fluorescence_Only-en.svg\" width=\"400px\"/>\n",
    "\n",
    "Image: https://commons.wikimedia.org/wiki/File:Jablonski_Diagram_of_Fluorescence_Only-en.svg\n",
    "\n",
    "![34854dna.jpg](34854dna.jpg)\n",
    "\n",
    "Syto 9 - https://www.thermofisher.com/order/catalog/product/S34854"
   ]
  },
  {
   "cell_type": "markdown",
   "id": "51e6df68",
   "metadata": {},
   "source": [
    "Discussion of [Miriam device](https://github.com/strawlab/miriam)"
   ]
  },
  {
   "cell_type": "markdown",
   "id": "927b2705",
   "metadata": {},
   "source": [
    "Further reading:\n",
    "- Original LAMP paper: https://doi.org/10.1093/nar/28.12.e63 \n",
    "- Addition of loop primers: https://doi.org/10.1006/mcpr.2002.0415\n",
    "- A beginner’s guide to RT-PCR, qPCR and RT-qPCR https://doi.org/10.1042/BIO20200034\n",
    "- Open RT-LAMP paper: https://www.frontiersin.org/articles/10.3389/fmolb.2022.801309/full website: https://www.rtlamp.org/"
   ]
  },
  {
   "cell_type": "code",
   "execution_count": null,
   "id": "189bf7bd",
   "metadata": {},
   "outputs": [],
   "source": []
  }
 ],
 "metadata": {
  "kernelspec": {
   "display_name": "Python 3 (ipykernel)",
   "language": "python",
   "name": "python3"
  },
  "language_info": {
   "codemirror_mode": {
    "name": "ipython",
    "version": 3
   },
   "file_extension": ".py",
   "mimetype": "text/x-python",
   "name": "python",
   "nbconvert_exporter": "python",
   "pygments_lexer": "ipython3",
   "version": "3.10.4"
  }
 },
 "nbformat": 4,
 "nbformat_minor": 5
}
