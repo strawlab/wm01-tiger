{
 "cells": [
  {
   "cell_type": "code",
   "execution_count": null,
   "metadata": {},
   "outputs": [],
   "source": [
    "import numpy as np\n",
    "import matplotlib.pyplot as plt\n",
    "import imageio"
   ]
  },
  {
   "cell_type": "markdown",
   "metadata": {},
   "source": [
    "# slicing, broadcasting, views and dtypes in numpy\n",
    "\n",
    "We are going to review slicing with numpy arrays and how images are stored. Remember, a grayscale image is a 2D array like:\n",
    "\n",
    "```\n",
    "np.array([[1, 2, 3, 4],\n",
    "          [5, 6, 7, 8]])\n",
    "```\n",
    "\n",
    "The size of this image would be 2 pixels high and 4 pixels wide. The numpy shape of this image is `(2, 4)`.\n",
    "\n",
    "Color images are stored as 3 \"channels\", with such a 2D array. These channels are red, green and blue, and correspond to the wavelength sensitivity of cameras and to the display wavelengths of computer monitors and projectors. The channel is stored as the third and final dimension and thus the shape is `(height, width, n_channels)`. For most color images such as JPEGs, these are stored as RGB images, `n_channels` is 3, and the channels are ordered red, green and blue.\n",
    "\n",
    "Let's consider this array:\n",
    "\n",
    "```\n",
    "im = np.zeros((100, 200, 3))\n",
    "```\n",
    "\n",
    "This array is 200 pixels width 100 pixels high (shape `(100, 200, 3)`), all zeros.\n",
    "\n",
    "## slicing\n",
    "\n",
    "Now let's use *slicing* to set all pixels in the red channel to have a single value of 255.\n",
    "\n",
    "```\n",
    "im[:,:,0] = 255 # set the red channel to have value 255\n",
    "```\n",
    "\n",
    "## broadcasting\n",
    "\n",
    "This is called *broadcasting* because the single value was \"broadcast\" - expanded - to the shape of the array.\n",
    "\n",
    "We can also set all pixels in a channel to from another array. For example, let's create a new array of shape `(100, 200)` and then use this to set a particular color channel:\n",
    "\n",
    "```\n",
    "new_channel = np.ones((100,200))\n",
    "im[:,:,1] = new_channel\n",
    "```\n",
    "\n",
    "This will set the green channel to have value 1.\n",
    "\n",
    "## views\n",
    "\n",
    "In addition to using slicing to set values in an array, we can also use slicing to get a *view* of the array:\n",
    "\n",
    "```\n",
    "blue_channel = im[:,:,2]\n",
    "```\n",
    "\n",
    "Now, `blue_channel` has shape `(100, 200)` and is a view of the memory in `im`. It acts like a 2D array (instead of a 3D array) but does not have its own data and instead references the data in the `im` array.\n",
    "\n",
    "## dtype\n",
    "\n",
    "The last step of our mini-review is the concept of data types, or dtypes. Remember that numpy arrays are collections of identical types. For images, we most often use the `uint8` type, or unsigned 8 bit integers, which can have a value from 0 to 255. (From zero to 2^8-1.) Sometimes, we want to do math with higher precision, and thus we can convert the data to a floating point type, such as `float64`, a 64 bit floating point number:\n",
    "\n",
    "```\n",
    "im_float = im.astype(np.float64)\n",
    "```\n",
    "\n",
    "So, for example you could average together two `uint8` arrays of the same size by doing this:\n",
    "\n",
    "```\n",
    "result_float = (im_a.astype(np.float64) + im_b.astype(np.float64)) / 2.0\n",
    "```\n",
    "\n",
    "You may want to convert this average array back to `uint8`, which would be done like so:\n",
    "\n",
    "```\n",
    "result = result_float.astype(np.uint8)\n",
    "```"
   ]
  },
  {
   "cell_type": "markdown",
   "metadata": {},
   "source": [
    "# Colorblind simulator\n",
    "\n",
    "We are now going to use numpy operations on an image to create a very basic \"colorblind simulator\". First, let's load an image. We can use any image, but here we load a image from Ishihara's test for color deficiency."
   ]
  },
  {
   "cell_type": "code",
   "execution_count": null,
   "metadata": {},
   "outputs": [],
   "source": [
    "im_rgb = imageio.imread('Ishihara_Plate_3.jpg')\n",
    "fig, ax = plt.subplots(ncols=1,nrows=1, figsize=(4,3))\n",
    "ax.imshow(im_rgb);"
   ]
  },
  {
   "cell_type": "markdown",
   "metadata": {},
   "source": [
    "## Q1. The task\n",
    "\n",
    "Now, make a simple simulatation of deuteranopia (red-green color blindness) by averaging together the red and green channels.\n",
    "\n",
    "1. Create a view of the red channel, convert it to float\n",
    "2. Create a view of the green channel, convert it to float\n",
    "3. Add the elements of float dtype arrays together and divide by two to create an average of the two channels.\n",
    "4. Convert your average back to uint8\n",
    "5. Create a new image which is a copy of your original image.\n",
    "5. Set the red and green channels in your new image to the average red-green image.\n",
    "6. Save the result in an array called `colorblind_simulated_image`."
   ]
  },
  {
   "cell_type": "code",
   "execution_count": null,
   "metadata": {
    "deletable": false,
    "nbgrader": {
     "cell_type": "code",
     "checksum": "93885197b1b5ef72377adddea21df1a4",
     "grade": false,
     "grade_id": "cell-3f469848e72f5234",
     "locked": false,
     "schema_version": 3,
     "solution": true,
     "task": false
    }
   },
   "outputs": [],
   "source": [
    "# YOUR CODE HERE\n",
    "raise NotImplementedError()"
   ]
  },
  {
   "cell_type": "code",
   "execution_count": null,
   "metadata": {
    "deletable": false,
    "editable": false,
    "nbgrader": {
     "cell_type": "code",
     "checksum": "246348f235d54484bc41c841a715e97c",
     "grade": true,
     "grade_id": "cell-1529edd9cffd843e",
     "locked": true,
     "points": 1,
     "schema_version": 3,
     "solution": false,
     "task": false
    }
   },
   "outputs": [],
   "source": [
    "# If this runs without error, it means the answer in your previous cell was correct.\n",
    "assert(np.allclose(colorblind_simulated_image[:,:,0], colorblind_simulated_image[:,:,1]))\n",
    "for i in np.arange(0,im_rgb.shape[0],50):\n",
    "    for j in np.arange(0,im_rgb.shape[1],50):\n",
    "        assert(colorblind_simulated_image[i,j,0]==int((im_rgb[i,j,0].astype(np.float64)+im_rgb[i,j,1].astype(np.float64))*0.5))"
   ]
  },
  {
   "cell_type": "markdown",
   "metadata": {},
   "source": [
    "## Q2. Display your image\n",
    "\n",
    "Now use `imshow()` from matplotlib to view your image.\n",
    "\n",
    "Your result should look like the right panel here:\n",
    "\n",
    "![side-by-side.png](side-by-side.png)"
   ]
  },
  {
   "cell_type": "code",
   "execution_count": null,
   "metadata": {
    "deletable": false,
    "nbgrader": {
     "cell_type": "code",
     "checksum": "b9fce3b88ec8f29eb36014964a200e55",
     "grade": true,
     "grade_id": "cell-aafb273354efd895",
     "locked": false,
     "points": 1,
     "schema_version": 3,
     "solution": true,
     "task": false
    }
   },
   "outputs": [],
   "source": [
    "# YOUR CODE HERE\n",
    "raise NotImplementedError()"
   ]
  }
 ],
 "metadata": {
  "kernelspec": {
   "display_name": "Python 3 (ipykernel)",
   "language": "python",
   "name": "python3"
  },
  "language_info": {
   "codemirror_mode": {
    "name": "ipython",
    "version": 3
   },
   "file_extension": ".py",
   "mimetype": "text/x-python",
   "name": "python",
   "nbconvert_exporter": "python",
   "pygments_lexer": "ipython3",
   "version": "3.10.4"
  }
 },
 "nbformat": 4,
 "nbformat_minor": 2
}
