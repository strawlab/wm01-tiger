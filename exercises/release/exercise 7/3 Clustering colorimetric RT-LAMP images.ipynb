{
 "cells": [
  {
   "cell_type": "markdown",
   "metadata": {},
   "source": [
    "You work at a SARS-CoV-2 PCR test center and your expensive qPCR machine has broken. But the school kids in your town urgently need their test results in order to participate safely in the big Nicolaus performance they have been preparing for all year. Luckily, your team also has a colorimetric dye - it changes color depending on DNA concentration - and all the reagents required to perform an alternative reaction to PCR called LAMP. In terms of equipment, all you need is a heating block. Luckily, you have one which is functional. A LAMP reaction requires only that the temperature required for the reaction is held constant. (Typically this is about 65 degrees C.) You reason that if you can implement a reliable readout for colorimetric LAMP, you will be able to run the tests using LAMP and allow the kids to safely participate in their performance.\n",
    "\n",
    "LAMP works similarly to PCR in that, if a particular sample is \"positive\", the reaction was able to amplify DNA because the LAMP primers matched a complementary sequence in the sample, and thus the LAMP reaction could generate large amounts of amplified product DNA. When using a colorimetric dye, the color changes from the \"negative color\" indicating low DNA concentration to the \"positive color\" indicating high DNA concentration. Here we use a dye from the NEB Colorimetric WarmStart LAMP Kit which is yellow when positive and red when negative. (Other colorimetric dyes such as Hydroxy Naphthol Blue - HNB - also are available and may have different colors.)\n",
    "\n",
    "To implement the reliable readout, you decide to implement a computer vision program that eliminates the need for subjective color judgement and potential errors by colorblind technicians. Based on what you have learned in a bioinformatics class, you have decided to perform \"color quantization\" on images acquired with a mobile phone camera to then turn full-color images into a single binarized image showing the locations of the wells with positive samples.\n",
    "\n",
    "In this exercise, we use an image from [this preprint](https://www.medrxiv.org/content/10.1101/2020.05.05.20092288v1) which was later published as [this paper](https://stm.sciencemag.org/content/12/556/eabc7075/tab-article-info)."
   ]
  },
  {
   "cell_type": "code",
   "execution_count": null,
   "metadata": {},
   "outputs": [],
   "source": [
    "import matplotlib.pyplot as plt\n",
    "import seaborn as sns; sns.set()  # for plot styling\n",
    "import numpy as np\n",
    "import scipy.misc\n",
    "from scipy import ndimage\n",
    "import imageio"
   ]
  },
  {
   "cell_type": "code",
   "execution_count": null,
   "metadata": {},
   "outputs": [],
   "source": [
    "im_rgb = imageio.imread('RT-LAMP-Dao-Thi-2020-plate.png')\n",
    "# Image CC-BY-ND 4.0 International license, copyright the authors of Dao Thi et al. (2020)\n",
    "ax = plt.axes(xticks=[], yticks=[])\n",
    "ax.imshow(im_rgb);"
   ]
  },
  {
   "cell_type": "code",
   "execution_count": null,
   "metadata": {},
   "outputs": [],
   "source": [
    "im_rgb.shape"
   ]
  },
  {
   "cell_type": "code",
   "execution_count": null,
   "metadata": {},
   "outputs": [],
   "source": [
    "data = im_rgb / 255.0 # use 0...1 scale\n",
    "data = data.reshape(318 * 488, 3)\n",
    "data.shape"
   ]
  },
  {
   "cell_type": "code",
   "execution_count": null,
   "metadata": {},
   "outputs": [],
   "source": [
    "def plot_pixels(data, title, colors=None, N=10000):\n",
    "    if colors is None:\n",
    "        colors = data\n",
    "    \n",
    "    # choose a random subset\n",
    "    rng = np.random.RandomState(0)\n",
    "    i = rng.permutation(data.shape[0])[:N]\n",
    "    colors = colors[i]\n",
    "    R, G, B = data[i].T\n",
    "    \n",
    "    fig, ax = plt.subplots(1, 2, figsize=(16, 6))\n",
    "    ax[0].scatter(R, G, color=colors, marker='.')\n",
    "    ax[0].set(xlabel='Red', ylabel='Green', xlim=(0, 1), ylim=(0, 1))\n",
    "\n",
    "    ax[1].scatter(R, B, color=colors, marker='.')\n",
    "    ax[1].set(xlabel='Red', ylabel='Blue', xlim=(0, 1), ylim=(0, 1))\n",
    "\n",
    "    fig.suptitle(title, size=20)\n",
    "    return ax"
   ]
  },
  {
   "cell_type": "code",
   "execution_count": null,
   "metadata": {},
   "outputs": [],
   "source": [
    "plot_pixels(data, title='Input color space: 16 million possible colors');"
   ]
  },
  {
   "cell_type": "markdown",
   "metadata": {},
   "source": [
    "# Q1 Determine a value of *k*, the number of clusters, that enables a \"good\" clustering of the colors which will be useful in creating a reliable program.\n",
    "\n",
    "You will probably want to test several values of `k` and use the one that works best for your task."
   ]
  },
  {
   "cell_type": "code",
   "execution_count": null,
   "metadata": {
    "deletable": false,
    "nbgrader": {
     "cell_type": "code",
     "checksum": "fcc8254fee316bd424fd51a4be0bd46a",
     "grade": false,
     "grade_id": "cell-fd2ecd26bf20e3a8",
     "locked": false,
     "schema_version": 3,
     "solution": true,
     "task": false
    }
   },
   "outputs": [],
   "source": [
    "# YOUR CODE HERE\n",
    "raise NotImplementedError()"
   ]
  },
  {
   "cell_type": "code",
   "execution_count": null,
   "metadata": {
    "deletable": false,
    "editable": false,
    "nbgrader": {
     "cell_type": "code",
     "checksum": "e0803d1d18053dd0638f9fe007f0dc47",
     "grade": true,
     "grade_id": "cell-c5493191b6b698e9",
     "locked": true,
     "points": 1,
     "schema_version": 3,
     "solution": false,
     "task": false
    }
   },
   "outputs": [],
   "source": [
    "# test that k is an integer\n",
    "assert k==k-0"
   ]
  },
  {
   "cell_type": "code",
   "execution_count": null,
   "metadata": {},
   "outputs": [],
   "source": [
    "from sklearn.cluster import MiniBatchKMeans\n",
    "kmeans = MiniBatchKMeans(k, random_state=0)\n",
    "kmeans.fit(data)\n",
    "new_colors = kmeans.cluster_centers_[kmeans.predict(data)]\n",
    "\n",
    "ax = plot_pixels(data, colors=new_colors,\n",
    "            title=f\"Reduced color space: {k} colors\")\n",
    "\n",
    "centers = kmeans.cluster_centers_\n",
    "ax[0].scatter(centers[:, 0], centers[:, 1], c='black', s=200, alpha=0.5);\n",
    "for i in range(k):\n",
    "    ax[0].text( centers[i, 0], centers[i, 1], f\"cluster {i}\")\n",
    "\n",
    "\n",
    "ax[1].scatter(centers[:, 0], centers[:, 2], c='black', s=200, alpha=0.5);"
   ]
  },
  {
   "cell_type": "code",
   "execution_count": null,
   "metadata": {},
   "outputs": [],
   "source": [
    "# Let's plot the original image side-by-side with the color quantized image.\n",
    "\n",
    "im_rgb_recolored = new_colors.reshape(im_rgb.shape)\n",
    "\n",
    "fig, ax = plt.subplots(1, 2, figsize=(16, 6),\n",
    "                       subplot_kw=dict(xticks=[], yticks=[]))\n",
    "fig.subplots_adjust(wspace=0.05)\n",
    "ax[0].imshow(im_rgb)\n",
    "ax[0].set_title('Original Image', size=16)\n",
    "ax[1].imshow(im_rgb_recolored)\n",
    "ax[1].set_title(f'{k}-color Image', size=16);"
   ]
  },
  {
   "cell_type": "code",
   "execution_count": null,
   "metadata": {},
   "outputs": [],
   "source": [
    "y_kmeans = kmeans.predict(data)"
   ]
  },
  {
   "cell_type": "code",
   "execution_count": null,
   "metadata": {},
   "outputs": [],
   "source": [
    "np.unique(y_kmeans)"
   ]
  },
  {
   "cell_type": "code",
   "execution_count": null,
   "metadata": {},
   "outputs": [],
   "source": [
    "y_kmeans.shape"
   ]
  },
  {
   "cell_type": "code",
   "execution_count": null,
   "metadata": {},
   "outputs": [],
   "source": [
    "labels = y_kmeans.copy()\n",
    "labels.shape = 318, 488\n",
    "\n",
    "fig, ax = plt.subplots(1, 1, figsize=(8, 6),\n",
    "                       subplot_kw=dict(xticks=[], yticks=[]))\n",
    "\n",
    "cax = ax.imshow(labels, cmap=\"tab20b\")\n",
    "ax.set_title('Cluster labels', size=16)\n",
    "fig.colorbar(cax);"
   ]
  },
  {
   "cell_type": "markdown",
   "metadata": {},
   "source": [
    "# Q2 Determine which cluster ID (the label of the cluster) best detects the positive sample wells.\n",
    "\n",
    "Set this to the variable `best_cluster_id`."
   ]
  },
  {
   "cell_type": "code",
   "execution_count": null,
   "metadata": {
    "deletable": false,
    "nbgrader": {
     "cell_type": "code",
     "checksum": "d97254f3469b636b811eab266e22cb1f",
     "grade": false,
     "grade_id": "cell-aec1217b52730fa8",
     "locked": false,
     "schema_version": 3,
     "solution": true,
     "task": false
    }
   },
   "outputs": [],
   "source": [
    "# YOUR CODE HERE\n",
    "raise NotImplementedError()"
   ]
  },
  {
   "cell_type": "code",
   "execution_count": null,
   "metadata": {
    "deletable": false,
    "editable": false,
    "nbgrader": {
     "cell_type": "code",
     "checksum": "8cf265edc64be98fd38b0026b90bdf83",
     "grade": true,
     "grade_id": "cell-ecc1060220837c67",
     "locked": true,
     "points": 1,
     "schema_version": 3,
     "solution": false,
     "task": false
    }
   },
   "outputs": [],
   "source": [
    "# test that the answer is an integer.\n",
    "assert best_cluster_id == best_cluster_id-0"
   ]
  },
  {
   "cell_type": "code",
   "execution_count": null,
   "metadata": {},
   "outputs": [],
   "source": [
    "condition = y_kmeans == best_cluster_id"
   ]
  },
  {
   "cell_type": "code",
   "execution_count": null,
   "metadata": {},
   "outputs": [],
   "source": [
    "binary = condition.copy()\n",
    "binary.shape = 318, 488"
   ]
  },
  {
   "cell_type": "code",
   "execution_count": null,
   "metadata": {},
   "outputs": [],
   "source": [
    "im_rgb_recolored = new_colors.reshape(im_rgb.shape)\n",
    "\n",
    "fig, ax = plt.subplots(1, 2, figsize=(16, 6),\n",
    "                       subplot_kw=dict(xticks=[], yticks=[]))\n",
    "fig.subplots_adjust(wspace=0.05)\n",
    "ax[0].imshow(im_rgb)\n",
    "ax[0].set_title('Original Image', size=16)\n",
    "ax[1].imshow(binary)\n",
    "ax[1].set_title(f'Binary Image', size=16);"
   ]
  },
  {
   "cell_type": "markdown",
   "metadata": {},
   "source": [
    "## Further thoughts\n",
    "\n",
    "- LAMP is a potentially viable alternative to qPCR tests which would be much less expensive to implement. In fact, various efforts are underway to make LAMP-based SARS-CoV-2 testing a reality. See, e.g. [RTLAMP.org](https://www.rtlamp.org/), [Corona Detective: a simple, scalable, and robust SARS-CoV-2 detection method based on reverse transcription loop-mediated isothermal amplification](https://abrf.memberclicks.net/assets/JBT/September_2021_Early_Access/Corona%20Detective%20a%20simple%2C%20scalable%2C%20and%20robust%20SARS-CoV-2%20detection%20method%20based%20on.pdf), and many more.\n",
    "\n",
    "- How would you automatically determine the well number (e.g. \"A1\" or \"F3\") and the status of the result (\"positive\" or \"negative\") in a continuation of the above exercise?\n",
    "\n",
    "- The kids thank you for allowing their Nicolaus performance to happen safely!"
   ]
  }
 ],
 "metadata": {
  "kernelspec": {
   "display_name": "Python 3 (ipykernel)",
   "language": "python",
   "name": "python3"
  },
  "language_info": {
   "codemirror_mode": {
    "name": "ipython",
    "version": 3
   },
   "file_extension": ".py",
   "mimetype": "text/x-python",
   "name": "python",
   "nbconvert_exporter": "python",
   "pygments_lexer": "ipython3",
   "version": "3.10.4"
  }
 },
 "nbformat": 4,
 "nbformat_minor": 4
}
