{
 "cells": [
  {
   "cell_type": "code",
   "execution_count": null,
   "metadata": {},
   "outputs": [],
   "source": [
    "# You must run this cell, but you can ignore its contents.\n",
    "\n",
    "import hashlib\n",
    "\n",
    "def ads_hash(ty):\n",
    "    \"\"\"Return a unique string for input\"\"\"\n",
    "    ty_str = str(ty).encode()\n",
    "    m = hashlib.sha256()\n",
    "    m.update(ty_str)\n",
    "    return m.hexdigest()[:10]"
   ]
  },
  {
   "cell_type": "code",
   "execution_count": null,
   "metadata": {},
   "outputs": [],
   "source": [
    "import numpy as np"
   ]
  },
  {
   "cell_type": "markdown",
   "metadata": {},
   "source": [
    " ## Disease diagnosis with Bayes' theorem\n",
    "\n",
    "Let's say that you know the prevalence of a disease (it could be a viral infection with SARS-CoV-2 or COVID-19) is 1% in a population of people. We have a test for the virus, which, given a person has the disease, will have a positive result 90% of the time. This is called the *true positive rate* (*TPR*), or *sensitivity*, of a test (and also called *recall* and *hit rate* in machine learning contexts). Unfortunately the test also gives a false positive (a positive result with no disease) 5% of the time. This is called the *false positive rate* (*FPR*). (The *specificity* of a test is `1-FPR`, so this test would have a 95% specificity.)\n",
    "\n",
    "See the [Wikipedia page on Sensitivity and specificity](https://en.wikipedia.org/wiki/Sensitivity_and_specificity) for more details about the definitions of these names and the relations between them.\n",
    "\n",
    "It is standard practice to report sensitivity and specificity when characterizing a test. For example, the European Commission previously published [this list of SARS-CoV-2 antigen rapid tests (PDF)](https://web.archive.org/web/20220122135627if_/https://ec.europa.eu/health/system/files/2022-01/covid-19_rat_common-list_en.pdf). (This list is now [offline](https://ec.europa.eu/health/system/files/2022-01/covid-19_rat_common-list_en.pdf).) The Paul Ehrlich Institute publishes independent laboratory results of the [sensitivity of SARS-CoV-2 antigen tests](https://www.pei.de/SharedDocs/Downloads/DE/newsroom/dossiers/evaluierung-sensitivitaet-sars-cov-2-antigentests.html) but does not include specificity data.\n",
    "\n",
    "We are going to work through the probability that a person in this population has the disease given a positive test result. We will write a positive test result as $\\rm{T}$. So, mathematically, we want to solve for $P(\\rm{disease}|\\rm{T})$ - the probability of having the disease given a positive test result. We will use Bayes' theorem to calculate this.\n",
    "\n",
    "Remember that Bayes' theorem is\n",
    "\n",
    "$P(A|B)=\\frac{P(B|A)P(A)}{P(B)}$\n",
    "\n",
    "Let's use variable names suited for our problem here. `A` will be `disease`, `B` will be `T` which means positive test result. So, rewriting Bayes' theorem with these new names, we have:\n",
    "\n",
    "$P(\\rm{disease}|\\rm{T})=\\frac{P(\\rm{T}|\\rm{disease})P(\\rm{disease})}{P(\\rm{T})}$\n",
    "\n",
    "In Bayesian terms, we can understand this as follows. Our *prior* belief is $P(\\rm{disease})$. This is our belief about the chances of having the disease prior to knowing the test results, and we take the population prevalence as our prior for this individual. We want to update our beliefs to compute our *posterior* belief $P(\\rm{disease}|\\rm{T})$. In other words, we want to update our belief of disease probability state given a positive test result. In Bayesian terms, our *likelhood function* is $P(\\rm{T}|\\rm{disease})$, the probability of a positive test result given the presence of the disease. As discussed above, this is the test sensitivity, or true positive rate (TPR).\n",
    "\n",
    "Below, you will need to make use of the fact that the probability of a positive result is the sum of the true and false positive probabilities:\n",
    "\n",
    "$P(\\rm{T})=P(\\rm{T}|\\rm{disease})P(\\rm{disease}) + P(\\rm{T}|\\rm{healthy})P(\\rm{healthy})$\n",
    "\n",
    "$P(\\rm{T}) = (\\rm{true\\;positive\\;rate})P(\\rm{disease}) + (\\rm{false\\;positive\\;rate})P(\\rm{healthy}) = (TPR)P(\\rm{disease}) + (FPR)P(\\rm{healthy})$"
   ]
  },
  {
   "cell_type": "markdown",
   "metadata": {},
   "source": [
    "## Q1 Given the disease, what is the probability of obtaining a positive result with this test?\n",
    "\n",
    "Mathematically, we write this as `P(T|disease)`. As described above, this is the *sensitivity* of a test, also called the *true positive rate* (*TPR*).\n",
    "\n",
    "Put your answer in the variable `prob_positive_given_disease`."
   ]
  },
  {
   "cell_type": "code",
   "execution_count": null,
   "metadata": {
    "deletable": false,
    "nbgrader": {
     "cell_type": "code",
     "checksum": "eb9b195a47f1b9895169077220b60f38",
     "grade": false,
     "grade_id": "cell-bd5795e644219a5f",
     "locked": false,
     "schema_version": 3,
     "solution": true,
     "task": false
    }
   },
   "outputs": [],
   "source": [
    "# YOUR CODE HERE\n",
    "raise NotImplementedError()"
   ]
  },
  {
   "cell_type": "code",
   "execution_count": null,
   "metadata": {
    "deletable": false,
    "editable": false,
    "nbgrader": {
     "cell_type": "code",
     "checksum": "c5bdd2f91509d3ef1bb6e5363c1f8cc8",
     "grade": true,
     "grade_id": "cell-794f6ea4cc254f13",
     "locked": true,
     "points": 1,
     "schema_version": 3,
     "solution": false,
     "task": false
    }
   },
   "outputs": [],
   "source": [
    "assert ads_hash(int(np.round(prob_positive_given_disease*1000)))=='bdc5d8a48c'"
   ]
  },
  {
   "cell_type": "markdown",
   "metadata": {},
   "source": [
    "## Q2 What is the probability of having the disease in the population?\n",
    "\n",
    "Mathematically, we write this as `P(disease)`.\n",
    "\n",
    "Put your answer in the variable `prob_disease`."
   ]
  },
  {
   "cell_type": "code",
   "execution_count": null,
   "metadata": {
    "deletable": false,
    "nbgrader": {
     "cell_type": "code",
     "checksum": "92591a94781f72590c4f0b396208e26e",
     "grade": false,
     "grade_id": "cell-14c9780bc2381875",
     "locked": false,
     "schema_version": 3,
     "solution": true,
     "task": false
    }
   },
   "outputs": [],
   "source": [
    "# YOUR CODE HERE\n",
    "raise NotImplementedError()"
   ]
  },
  {
   "cell_type": "code",
   "execution_count": null,
   "metadata": {
    "deletable": false,
    "editable": false,
    "nbgrader": {
     "cell_type": "code",
     "checksum": "7b706052339ea83c2cf0fcb04ecf575e",
     "grade": true,
     "grade_id": "cell-1458d1dd7685458a",
     "locked": true,
     "points": 1,
     "schema_version": 3,
     "solution": false,
     "task": false
    }
   },
   "outputs": [],
   "source": [
    "assert ads_hash(int(np.round(prob_disease*1000)))=='4a44dc1536'"
   ]
  },
  {
   "cell_type": "markdown",
   "metadata": {},
   "source": [
    "## Q3 What is the probability of obtaining a positive result *in this population* due to actual disease?\n",
    "\n",
    "(This is the probability of a positive result given the disease and the probability of the disease.)\n",
    "\n",
    "Mathematically, this would be written as `P(T|disease)*P(disease)`.\n",
    "\n",
    "Put your answer in the variable `prob_pos_disease`.\n"
   ]
  },
  {
   "cell_type": "code",
   "execution_count": null,
   "metadata": {
    "deletable": false,
    "nbgrader": {
     "cell_type": "code",
     "checksum": "1d5f2d8f47f44a3b4968c515321d9e81",
     "grade": false,
     "grade_id": "cell-a2795deffa3c89c7",
     "locked": false,
     "schema_version": 3,
     "solution": true,
     "task": false
    }
   },
   "outputs": [],
   "source": [
    "# YOUR CODE HERE\n",
    "raise NotImplementedError()"
   ]
  },
  {
   "cell_type": "code",
   "execution_count": null,
   "metadata": {
    "deletable": false,
    "editable": false,
    "nbgrader": {
     "cell_type": "code",
     "checksum": "d70ee2671fd2b335ae2fcc3a81c6de73",
     "grade": true,
     "grade_id": "cell-667a1db97c8f798e",
     "locked": true,
     "points": 1,
     "schema_version": 3,
     "solution": false,
     "task": false
    }
   },
   "outputs": [],
   "source": [
    "assert ads_hash(int(np.round(prob_pos_disease*1000)))=='19581e27de'"
   ]
  },
  {
   "cell_type": "markdown",
   "metadata": {},
   "source": [
    "## Q4 What is the prevalence of healthy (no disease) people in the population?\n",
    "\n",
    "In our model, a person is either healthy or has the disease. Thus, `P(healthy) + P(disease) = 1`. Based on this, `P(healthy) = 1-P(disease)`.\n",
    "\n",
    "Mathematically, we want to know `P(healthy)`.\n",
    "\n",
    "Put your answer in the variable `prob_healthy`."
   ]
  },
  {
   "cell_type": "code",
   "execution_count": null,
   "metadata": {
    "deletable": false,
    "nbgrader": {
     "cell_type": "code",
     "checksum": "3ef0951ee47f1405d24c143346737d13",
     "grade": false,
     "grade_id": "cell-c51a246f7cbdf86a",
     "locked": false,
     "schema_version": 3,
     "solution": true,
     "task": false
    }
   },
   "outputs": [],
   "source": [
    "# YOUR CODE HERE\n",
    "raise NotImplementedError()"
   ]
  },
  {
   "cell_type": "code",
   "execution_count": null,
   "metadata": {
    "deletable": false,
    "editable": false,
    "nbgrader": {
     "cell_type": "code",
     "checksum": "1f9a8c570afda57f499939465823f450",
     "grade": true,
     "grade_id": "cell-0899b61c455701f1",
     "locked": true,
     "points": 1,
     "schema_version": 3,
     "solution": false,
     "task": false
    }
   },
   "outputs": [],
   "source": [
    "assert ads_hash(int(np.round(prob_healthy*1000)))=='fe50b64954'"
   ]
  },
  {
   "cell_type": "markdown",
   "metadata": {},
   "source": [
    "## Q5 What is the probability of obtaining a positive result in this population due to false positive?\n",
    "\n",
    "(This is the probability of a - false - positive result given no disease and the probability being healthy.)\n",
    "\n",
    "Mathematically, we write this as `P(T|healthy)*P(healthy)`.\n",
    "\n",
    "Put your answer in the variable `prob_pos_healthy`."
   ]
  },
  {
   "cell_type": "code",
   "execution_count": null,
   "metadata": {
    "deletable": false,
    "nbgrader": {
     "cell_type": "code",
     "checksum": "4088f687038ffcd4aae0ddf59f521250",
     "grade": false,
     "grade_id": "cell-e499af19d0992d30",
     "locked": false,
     "schema_version": 3,
     "solution": true,
     "task": false
    }
   },
   "outputs": [],
   "source": [
    "# YOUR CODE HERE\n",
    "raise NotImplementedError()"
   ]
  },
  {
   "cell_type": "code",
   "execution_count": null,
   "metadata": {
    "deletable": false,
    "editable": false,
    "nbgrader": {
     "cell_type": "code",
     "checksum": "93ce775768a60fbe3f609c62ff3ba94b",
     "grade": true,
     "grade_id": "cell-afd9c756a3c77813",
     "locked": true,
     "points": 1,
     "schema_version": 3,
     "solution": false,
     "task": false
    }
   },
   "outputs": [],
   "source": [
    "assert ads_hash(int(np.round(prob_pos_healthy*1000)))=='1a6562590e'"
   ]
  },
  {
   "cell_type": "markdown",
   "metadata": {},
   "source": [
    "## Q6 What is the probability of obtaining a positive result in this population?\n",
    "\n",
    "(This is the probability of obtaining a positive result, no matter the underlying disease or healthy state. Therefore, it is the sum of the probability of a postive result for all possible states.)\n",
    "\n",
    "Mathemetically, this would be `P(T) = P(T|disease)*P(disease) + P(T|healthy)*P(healthy)`.\n",
    "\n",
    "Put your answer in the variable `prob_positive`."
   ]
  },
  {
   "cell_type": "code",
   "execution_count": null,
   "metadata": {
    "deletable": false,
    "nbgrader": {
     "cell_type": "code",
     "checksum": "f68f4ee388785186a875106b737eb956",
     "grade": false,
     "grade_id": "cell-f21ea6c9a3bff85a",
     "locked": false,
     "schema_version": 3,
     "solution": true,
     "task": false
    }
   },
   "outputs": [],
   "source": [
    "# YOUR CODE HERE\n",
    "raise NotImplementedError()"
   ]
  },
  {
   "cell_type": "code",
   "execution_count": null,
   "metadata": {
    "deletable": false,
    "editable": false,
    "nbgrader": {
     "cell_type": "code",
     "checksum": "605f848a978b60026dbbe2d5019e7055",
     "grade": true,
     "grade_id": "cell-b0648a81e8391d34",
     "locked": true,
     "points": 1,
     "schema_version": 3,
     "solution": false,
     "task": false
    }
   },
   "outputs": [],
   "source": [
    "assert ads_hash(int(np.round(prob_positive*1000))) == '6208ef0f77'"
   ]
  },
  {
   "cell_type": "markdown",
   "metadata": {},
   "source": [
    "## Q7 Given a positive result, what is the probability of having the disease?\n",
    "\n",
    "Finally, here is where we use Bayes' theorem to tell us how likely is it that there is disease given a positive result.\n",
    "\n",
    "`P(disease|T)=P(T|disease)*P(disease)/P(T)`\n",
    "\n",
    "Put the result in the variable `prob_disease_given_positive`."
   ]
  },
  {
   "cell_type": "code",
   "execution_count": null,
   "metadata": {
    "deletable": false,
    "nbgrader": {
     "cell_type": "code",
     "checksum": "d72b76dda71e359824f48b2e4f47a4f9",
     "grade": false,
     "grade_id": "cell-a0cc2998aca0717b",
     "locked": false,
     "schema_version": 3,
     "solution": true,
     "task": false
    }
   },
   "outputs": [],
   "source": [
    "# YOUR CODE HERE\n",
    "raise NotImplementedError()"
   ]
  },
  {
   "cell_type": "code",
   "execution_count": null,
   "metadata": {
    "deletable": false,
    "editable": false,
    "nbgrader": {
     "cell_type": "code",
     "checksum": "bd810979c72203397f4a39cb3f1f63a3",
     "grade": true,
     "grade_id": "cell-91fcc1b6c157fce2",
     "locked": true,
     "points": 1,
     "schema_version": 3,
     "solution": false,
     "task": false
    }
   },
   "outputs": [],
   "source": [
    "print(prob_disease_given_positive)\n",
    "assert ads_hash(int(np.round(prob_disease_given_positive*1000)))=='1d0ebea552'"
   ]
  },
  {
   "cell_type": "markdown",
   "metadata": {},
   "source": [
    "## Conclusion\n",
    "\n",
    "Perhaps surprisingly, in a low prevalence of disease (1%), a positive result from test with sensitivity of 90% and specificity of 95% indicates only an approximately 15% chance that the person has the disease.\n",
    "\n",
    "**Real world note:** this analysis was done assuming the test was administered randomly and not, for example, on whether the person was experiencing symptoms or had another reason to believe they may have the disease. These additional factors would need to be included to make predictions about such a situation."
   ]
  },
  {
   "cell_type": "markdown",
   "metadata": {},
   "source": [
    "## Extra credit\n",
    "\n",
    "Now assume a second *independent* test is done. What would the chance be that a person has the disease after two independent positive results? Work out the steps. The correct result is about 77%.\n",
    "\n",
    "(It is important that the tests are independent because errors with one should not influence errors with the other.)\n",
    "\n",
    "Here we use $\\rm{TT}$ to indicate two positive test results. This is the probability of a first positive result and a second positive result, so the probability of a single positive result times the probability of a single positive result.\n",
    "\n",
    "$P(\\rm{disease}|\\rm{TT})=\\frac{P(\\rm{TT}|\\rm{disease})P(\\rm{disease})}{P(\\rm{TT})}$\n",
    "\n",
    "Remember using basic probability logic:\n",
    "\n",
    "$P(\\rm{positive\\;result})=P(\\rm{true\\;positive})P(\\rm{disease}) + P(\\rm{false\\;positive})P(\\rm{healthy})$\n",
    "\n",
    "We can work out the following relation for $P(\\rm{TT})$, the probability of two positive test results.\n",
    "\n",
    "Keep in mind the following relations:\n",
    "\n",
    "$P(\\rm{TT}) = P(\\rm{TT}|\\rm{disease})P(\\rm{disease}) + P(\\rm{TT}|\\rm{healthy})P(\\rm{healthy})$\n",
    "\n",
    "Also:\n",
    "\n",
    "$P(\\rm{TT}|\\rm{disease}) = P(\\rm{positive\\;result}|\\rm{disease})P(\\rm{positive\\;result}|\\rm{disease}) = P(\\rm{positive\\;result}|\\rm{disease})^2$\n",
    "\n",
    "**Real world note:** a second independent test would need to test something different and perhaps be performed at a separate time and perhaps place by a seperate tester to acheive true independence. This is because an antigen test, for example, may give a false positive due to another cause - say presense of a rare but unrelated bacteria strain. Thus, using the same test again may again result in another positive for the same reason and is thus not truly independent."
   ]
  },
  {
   "cell_type": "code",
   "execution_count": null,
   "metadata": {
    "deletable": false,
    "nbgrader": {
     "cell_type": "code",
     "checksum": "7e9783da7359bcdef1b247fd1c70f258",
     "grade": true,
     "grade_id": "cell-abdcc7bbaea9194d",
     "locked": false,
     "points": 0,
     "schema_version": 3,
     "solution": true,
     "task": false
    }
   },
   "outputs": [],
   "source": [
    "# YOUR CODE HERE\n",
    "raise NotImplementedError()"
   ]
  },
  {
   "cell_type": "code",
   "execution_count": null,
   "metadata": {
    "deletable": false,
    "nbgrader": {
     "cell_type": "code",
     "checksum": "3f874010e2f1b47124bb7d8242221228",
     "grade": true,
     "grade_id": "cell-0250d322805d7fd7",
     "locked": false,
     "points": 0,
     "schema_version": 3,
     "solution": true,
     "task": false
    }
   },
   "outputs": [],
   "source": [
    "# YOUR CODE HERE\n",
    "raise NotImplementedError()"
   ]
  },
  {
   "cell_type": "code",
   "execution_count": null,
   "metadata": {
    "deletable": false,
    "nbgrader": {
     "cell_type": "code",
     "checksum": "a057b18a8d70b5c2f13980d706d70aa1",
     "grade": true,
     "grade_id": "cell-7986416dfa056d9a",
     "locked": false,
     "points": 0,
     "schema_version": 3,
     "solution": true,
     "task": false
    }
   },
   "outputs": [],
   "source": [
    "# YOUR CODE HERE\n",
    "raise NotImplementedError()"
   ]
  },
  {
   "cell_type": "code",
   "execution_count": null,
   "metadata": {
    "deletable": false,
    "nbgrader": {
     "cell_type": "code",
     "checksum": "ee67ce04eafdfbd35a2a73838e36a891",
     "grade": true,
     "grade_id": "cell-fb540ee826540863",
     "locked": false,
     "points": 0,
     "schema_version": 3,
     "solution": true,
     "task": false
    }
   },
   "outputs": [],
   "source": [
    "# YOUR CODE HERE\n",
    "raise NotImplementedError()"
   ]
  },
  {
   "cell_type": "code",
   "execution_count": null,
   "metadata": {
    "deletable": false,
    "nbgrader": {
     "cell_type": "code",
     "checksum": "bffc5c71257454cf4d89e73d205cc41f",
     "grade": true,
     "grade_id": "cell-c1e4844321baf0be",
     "locked": false,
     "points": 0,
     "schema_version": 3,
     "solution": true,
     "task": false
    }
   },
   "outputs": [],
   "source": [
    "# YOUR CODE HERE\n",
    "raise NotImplementedError()"
   ]
  },
  {
   "cell_type": "code",
   "execution_count": null,
   "metadata": {
    "deletable": false,
    "nbgrader": {
     "cell_type": "code",
     "checksum": "40c2f8d1203d8b218c37cfc8cfcd327b",
     "grade": true,
     "grade_id": "cell-4e87df82fd6b4259",
     "locked": false,
     "points": 0,
     "schema_version": 3,
     "solution": true,
     "task": false
    }
   },
   "outputs": [],
   "source": [
    "# YOUR CODE HERE\n",
    "raise NotImplementedError()"
   ]
  },
  {
   "cell_type": "code",
   "execution_count": null,
   "metadata": {
    "deletable": false,
    "nbgrader": {
     "cell_type": "code",
     "checksum": "188ad324bdf444dccb520b32fb8ad02a",
     "grade": true,
     "grade_id": "cell-636758ec522a9a91",
     "locked": false,
     "points": 0,
     "schema_version": 3,
     "solution": true,
     "task": false
    }
   },
   "outputs": [],
   "source": [
    "# YOUR CODE HERE\n",
    "raise NotImplementedError()"
   ]
  },
  {
   "cell_type": "code",
   "execution_count": null,
   "metadata": {
    "deletable": false,
    "nbgrader": {
     "cell_type": "code",
     "checksum": "7d6f0915a558825df33a5ea48cbaef4a",
     "grade": true,
     "grade_id": "cell-ff65799f1a88e304",
     "locked": false,
     "points": 0,
     "schema_version": 3,
     "solution": true,
     "task": false
    }
   },
   "outputs": [],
   "source": [
    "# YOUR CODE HERE\n",
    "raise NotImplementedError()"
   ]
  }
 ],
 "metadata": {
  "kernelspec": {
   "display_name": "Python 3 (ipykernel)",
   "language": "python",
   "name": "python3"
  },
  "language_info": {
   "codemirror_mode": {
    "name": "ipython",
    "version": 3
   },
   "file_extension": ".py",
   "mimetype": "text/x-python",
   "name": "python",
   "nbconvert_exporter": "python",
   "pygments_lexer": "ipython3",
   "version": "3.10.4"
  }
 },
 "nbformat": 4,
 "nbformat_minor": 4
}
