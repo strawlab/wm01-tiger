{
 "cells": [
  {
   "cell_type": "code",
   "execution_count": null,
   "id": "eacb988d",
   "metadata": {},
   "outputs": [],
   "source": [
    "import pandas as pd\n",
    "import matplotlib.pyplot as plt\n",
    "import numpy as np"
   ]
  },
  {
   "cell_type": "markdown",
   "id": "6b6b342d",
   "metadata": {},
   "source": [
    "# Overview\n",
    "\n",
    "In this exercise, we are going to look at a calibration dataset taken from the [Miriam device](https://github.com/strawlab/miriam).\n",
    "\n",
    "The purpose of this experiment was to validate that the 96 locations in the device are are homogeneous in terms of their measurement abilities. Therefore 96 well plates of fluorescent dye were prepared where each well was pipetted from a stock solution and any differences between wells should be due to differences in the device (or pipetting differences when loading individual wells). Measurements we performed at several different dilutions of the stock solution."
   ]
  },
  {
   "cell_type": "markdown",
   "id": "fadfc567",
   "metadata": {},
   "source": [
    "# Q1 Read the metadata file\n",
    "\n",
    "The file `data_list_heat_2.csv` contains the \"metadata\" for the various measurements made. Read this into the dataframe `df_meta` using the Pandas `read_csv` function."
   ]
  },
  {
   "cell_type": "code",
   "execution_count": null,
   "id": "f17fb418",
   "metadata": {
    "deletable": false,
    "nbgrader": {
     "cell_type": "code",
     "checksum": "2b4c17e9df6649bf869997b98b6834c7",
     "grade": false,
     "grade_id": "cell-b3810ebd37789e6e",
     "locked": false,
     "schema_version": 3,
     "solution": true,
     "task": false
    }
   },
   "outputs": [],
   "source": [
    "# YOUR CODE HERE\n",
    "raise NotImplementedError()"
   ]
  },
  {
   "cell_type": "code",
   "execution_count": null,
   "id": "05f83a3d",
   "metadata": {
    "deletable": false,
    "editable": false,
    "nbgrader": {
     "cell_type": "code",
     "checksum": "4b392b3b2483cb51648fd662f88d3489",
     "grade": true,
     "grade_id": "cell-c26c284175cd01e2",
     "locked": true,
     "points": 1,
     "schema_version": 3,
     "solution": false,
     "task": false
    }
   },
   "outputs": [],
   "source": [
    "assert isinstance(df_meta,pd.DataFrame)\n",
    "assert len(df_meta.columns)==2\n",
    "assert len(df_meta)==9"
   ]
  },
  {
   "cell_type": "markdown",
   "id": "5b26fe1f",
   "metadata": {},
   "source": [
    "# Q2 read all individual experimental CSV files and `concat` them into one large dataframe `df` with a new column `Concentration` indicating their concentration (called `dilution` in `df_meta` above)."
   ]
  },
  {
   "cell_type": "code",
   "execution_count": null,
   "id": "c1f1c5b3",
   "metadata": {},
   "outputs": [],
   "source": [
    "# Hint, here is an example of concatenating multiple dataframes into a bigger one\n",
    "\n",
    "sample_a = pd.DataFrame({'col 1':[1,2,3],'col 2':[4, 5, 6]})\n",
    "sample_b = pd.DataFrame({'col 1':[11,12,13],'col 2':[24, 25, 26]})\n",
    "df = None\n",
    "for sample_letter, sample_df in [('A', sample_a), ('B', sample_b)]:\n",
    "    dfi = sample_df.copy()\n",
    "    dfi['Sample'] = sample_letter\n",
    "    if df is None:\n",
    "        df = dfi\n",
    "    else:\n",
    "        df = pd.concat([df, dfi])\n",
    "display(sample_a)\n",
    "display(sample_b)\n",
    "display(df)"
   ]
  },
  {
   "cell_type": "code",
   "execution_count": null,
   "id": "0b5a3379",
   "metadata": {
    "deletable": false,
    "nbgrader": {
     "cell_type": "code",
     "checksum": "6107627ca1d813d8c8adba4ae1c9bb60",
     "grade": false,
     "grade_id": "cell-35fd82d2a2bc76de",
     "locked": false,
     "schema_version": 3,
     "solution": true,
     "task": false
    }
   },
   "outputs": [],
   "source": [
    "# YOUR CODE HERE\n",
    "raise NotImplementedError()"
   ]
  },
  {
   "cell_type": "code",
   "execution_count": null,
   "id": "12568c0b",
   "metadata": {
    "deletable": false,
    "editable": false,
    "nbgrader": {
     "cell_type": "code",
     "checksum": "07f475ee621a0e3115b8d76db0193c4a",
     "grade": true,
     "grade_id": "cell-9404edefba1ad11e",
     "locked": true,
     "points": 1,
     "schema_version": 3,
     "solution": false,
     "task": false
    }
   },
   "outputs": [],
   "source": [
    "assert len(df)==144\n",
    "assert len(df.columns==105)\n",
    "assert 'Time' in df.columns\n",
    "assert 'A1' in df.columns\n",
    "assert 'H12' in df.columns\n",
    "assert 'Concentration' in df.columns"
   ]
  },
  {
   "cell_type": "markdown",
   "id": "692c2bdf",
   "metadata": {},
   "source": [
    "# Q3 create a variable `letters` which is a sequence type in which each item is a character letter from `A` through `H` (8 letters total). Create a variable `numbers` which is a sequence type in which each item is an integer from `1` through `12` (12 numbers total). Create a variable `wells` which is a sequence of strings like `A1`, `A2`, .., `A12`, `B1`, .., `H12`"
   ]
  },
  {
   "cell_type": "code",
   "execution_count": null,
   "id": "12ef3f25",
   "metadata": {
    "deletable": false,
    "nbgrader": {
     "cell_type": "code",
     "checksum": "2b98fc60a98223eb4051fdd77fd1e1ce",
     "grade": false,
     "grade_id": "cell-d6f7dea2d0867a78",
     "locked": false,
     "schema_version": 3,
     "solution": true,
     "task": false
    }
   },
   "outputs": [],
   "source": [
    "# YOUR CODE HERE\n",
    "raise NotImplementedError()"
   ]
  },
  {
   "cell_type": "code",
   "execution_count": null,
   "id": "cad7b3f1",
   "metadata": {
    "deletable": false,
    "editable": false,
    "nbgrader": {
     "cell_type": "code",
     "checksum": "14f17f445eb821fd187328608d38f6cc",
     "grade": true,
     "grade_id": "cell-d3a262aca40e9d8f",
     "locked": true,
     "points": 1,
     "schema_version": 3,
     "solution": false,
     "task": false
    }
   },
   "outputs": [],
   "source": [
    "assert len(letters)==8\n",
    "assert letters[0]=='A'\n",
    "assert letters[7]=='H'\n",
    "assert len(numbers)==12\n",
    "assert numbers[0]==1\n",
    "assert numbers[11]==12\n",
    "assert len(wells)==96\n",
    "assert wells[0]=='A1'\n",
    "assert wells[95]=='H12'"
   ]
  },
  {
   "cell_type": "markdown",
   "id": "e4b748f1",
   "metadata": {},
   "source": [
    "# Looking at the data\n",
    "\n",
    "Let's have a look at the data. Run the cell below to examine the layout of the large dataframe we have created, which is just the concatenation of the individual CSV files with the `Concentration` column added."
   ]
  },
  {
   "cell_type": "code",
   "execution_count": null,
   "id": "af893e30",
   "metadata": {},
   "outputs": [],
   "source": [
    "df"
   ]
  },
  {
   "cell_type": "markdown",
   "id": "efed82b1",
   "metadata": {},
   "source": [
    "Note that here there are various columns of data regarding the time, temperature measured in the device, the heat commands for the three seperately controlled heating elements in the device, and most of the columns are the raw fluorescence values from the 96 wells `A1` through `H12`."
   ]
  },
  {
   "cell_type": "markdown",
   "id": "b2364bd2",
   "metadata": {},
   "source": [
    "# Q4 Let's get an overview of the fluorescence as a function of concentration by plotting the values for well A1.\n",
    "\n",
    "Your plot should look like this:\n",
    "\n",
    "![well-A1.png](well-A1.png)"
   ]
  },
  {
   "cell_type": "code",
   "execution_count": null,
   "id": "2fdbccaf",
   "metadata": {
    "deletable": false,
    "nbgrader": {
     "cell_type": "code",
     "checksum": "5fe4d0dfa4e7da3f5960dc8a3ce0ebc2",
     "grade": true,
     "grade_id": "cell-7b551e4e258e73b5",
     "locked": false,
     "points": 0,
     "schema_version": 3,
     "solution": true,
     "task": false
    }
   },
   "outputs": [],
   "source": [
    "# YOUR CODE HERE\n",
    "raise NotImplementedError()"
   ]
  },
  {
   "cell_type": "markdown",
   "id": "81c81e4c",
   "metadata": {},
   "source": [
    "(Strangely, fluorescence decreases above at concentrations over 0.25. We are not certain of the cause, but we think this is a phenomenon related to the flourescent dye used - from an Edding highlighter for these tests-  rather than a problem with the Miriam device itself.)"
   ]
  },
  {
   "cell_type": "markdown",
   "id": "ed8a1ea3",
   "metadata": {},
   "source": [
    "# Let's now visualize the fluorescence values from all wells across space.\n",
    "\n",
    "Here is a function `plot_plate` which is a glorified call to matplotlib's `imshow` function to plot values from a 96 well plate."
   ]
  },
  {
   "cell_type": "code",
   "execution_count": null,
   "id": "47db27ba",
   "metadata": {},
   "outputs": [],
   "source": [
    "def plot_plate(well_data_2d, title=None, vmin=0, vmax=1300, ax=None):\n",
    "    assert well_data_2d.shape == (8, 12)\n",
    "    if ax is None:\n",
    "        (fig, ax) = plt.subplots(nrows=1,ncols=1)\n",
    "    im = ax.imshow(well_data_2d, vmin=vmin, vmax=vmax)\n",
    "    if title:\n",
    "        ax.set_title(title)\n",
    "    ax.set_xticks(np.arange(0, 12, 1))\n",
    "    ax.set_yticks(np.arange(0, 8, 1))\n",
    "    ax.set_yticklabels(list('ABCDEFGH'))\n",
    "    ax.set_xticklabels(list(range(1,13,1)))\n",
    "    ax.set_xlabel('column')\n",
    "    ax.set_ylabel('row')\n",
    "    plt.colorbar(im, ax=ax, label='fluorescence intensity (raw units)')"
   ]
  },
  {
   "cell_type": "markdown",
   "id": "e648bd44",
   "metadata": {},
   "source": [
    "To be able to use this function, we need to create an array of the correct shape (8 rows, 12 columns). How do we do this from our DataFrame?\n",
    "\n",
    "Let's create a `test_df` to see the concept:"
   ]
  },
  {
   "cell_type": "code",
   "execution_count": null,
   "id": "62ffe8d2",
   "metadata": {},
   "outputs": [],
   "source": [
    "test_df = pd.DataFrame({'color': ['red', 'green', 'blue', 'purple'], 'column 1':[1,2,3,4], 'column 2': [4,5,6,7], 'column 3': [8,9,10,11]})\n",
    "test_df"
   ]
  },
  {
   "cell_type": "markdown",
   "id": "fad50802",
   "metadata": {},
   "source": [
    "Now, we can extract just some columns by using the DataFrame's `__getitem__` method with a list of column names:"
   ]
  },
  {
   "cell_type": "code",
   "execution_count": null,
   "id": "1a779a21",
   "metadata": {},
   "outputs": [],
   "source": [
    "extracted_numerical_columns = test_df[ ['column 1', 'column 2', 'column 3']]\n",
    "extracted_numerical_columns"
   ]
  },
  {
   "cell_type": "code",
   "execution_count": null,
   "id": "306c2467",
   "metadata": {},
   "outputs": [],
   "source": [
    "# Convert to numpy\n",
    "np.array(extracted_numerical_columns)"
   ]
  },
  {
   "cell_type": "markdown",
   "id": "18901df3",
   "metadata": {},
   "source": [
    "So, with this concept and our `wells` variable we defined earlier, we can extract just the well data and convert it to numpy.\n",
    "\n",
    "Note that we will have 96 columns in such an array and, if we take only the `n` rows for a given concentration, we will have an `(n,96)` shape numpy array. We want to average across all `n` measurements and then reshape the remaining array of shape `(96,)` to shape `(8,12)`.\n",
    "\n",
    "\n",
    "# Q5 Create a variable `df_025` which has all the rows of `df` with a concentration of 0.25.\n",
    "\n",
    "Plot the luminance values for concentration 0.25."
   ]
  },
  {
   "cell_type": "code",
   "execution_count": null,
   "id": "a0dfc975",
   "metadata": {
    "deletable": false,
    "editable": false,
    "nbgrader": {
     "cell_type": "code",
     "checksum": "5d53a840a6edef011a72371a6eef4563",
     "grade": true,
     "grade_id": "cell-af7d14e1a79e1271",
     "locked": true,
     "points": 0,
     "schema_version": 3,
     "solution": false,
     "task": false
    }
   },
   "outputs": [],
   "source": [
    "df_025 = df[ df['Concentration']==0.25 ]\n",
    "\n"
   ]
  },
  {
   "cell_type": "code",
   "execution_count": null,
   "id": "3bc2a8d4",
   "metadata": {},
   "outputs": [],
   "source": [
    "assert df_025.shape == (16, 105)"
   ]
  },
  {
   "cell_type": "markdown",
   "id": "50df6641",
   "metadata": {},
   "source": [
    "# Q6 Now extract the numerical values of luminance from the well columns, convert to a numpy array, and take the average acrosss all timepoints for that well."
   ]
  },
  {
   "cell_type": "code",
   "execution_count": null,
   "id": "1998db28",
   "metadata": {
    "deletable": false,
    "nbgrader": {
     "cell_type": "code",
     "checksum": "2034943ccb0bb83f00117c3ce56994db",
     "grade": false,
     "grade_id": "cell-e4c94b7984271e1c",
     "locked": false,
     "schema_version": 3,
     "solution": true,
     "task": false
    }
   },
   "outputs": [],
   "source": [
    "# YOUR CODE HERE\n",
    "raise NotImplementedError()"
   ]
  },
  {
   "cell_type": "code",
   "execution_count": null,
   "id": "85cfad2b",
   "metadata": {
    "deletable": false,
    "editable": false,
    "nbgrader": {
     "cell_type": "code",
     "checksum": "f3a5d2cf51cd7315c6822d8776a11539",
     "grade": true,
     "grade_id": "cell-01ce63979def3f1a",
     "locked": true,
     "points": 1,
     "schema_version": 3,
     "solution": false,
     "task": false
    }
   },
   "outputs": [],
   "source": [
    "assert well_data.shape == (96,)"
   ]
  },
  {
   "cell_type": "markdown",
   "id": "604a9a84",
   "metadata": {},
   "source": [
    "# Q7 Now plot this using `plot_plate` from above\n",
    "\n",
    "Your answer should look like this:\n",
    "\n",
    "![plate025.png](plate025.png)"
   ]
  },
  {
   "cell_type": "code",
   "execution_count": null,
   "id": "667e24a6",
   "metadata": {},
   "outputs": [],
   "source": [
    "well_data.shape = 8,12\n",
    "plot_plate(well_data, title='concentration {}'.format(0.25))\n",
    "#plt.savefig('plate025.png')"
   ]
  },
  {
   "cell_type": "markdown",
   "id": "74fccbfa",
   "metadata": {},
   "source": [
    "# Q8 Now using groupby and looping over all concentrations, plot all plates."
   ]
  },
  {
   "cell_type": "code",
   "execution_count": null,
   "id": "3dab0467",
   "metadata": {
    "deletable": false,
    "nbgrader": {
     "cell_type": "code",
     "checksum": "0a0c21967ce00d3981afa0cf8a5bccc3",
     "grade": true,
     "grade_id": "cell-308748f793d3a919",
     "locked": false,
     "points": 1,
     "schema_version": 3,
     "solution": true,
     "task": false
    }
   },
   "outputs": [],
   "source": [
    "# YOUR CODE HERE\n",
    "raise NotImplementedError()"
   ]
  }
 ],
 "metadata": {
  "kernelspec": {
   "display_name": "Python 3 (ipykernel)",
   "language": "python",
   "name": "python3"
  },
  "language_info": {
   "codemirror_mode": {
    "name": "ipython",
    "version": 3
   },
   "file_extension": ".py",
   "mimetype": "text/x-python",
   "name": "python",
   "nbconvert_exporter": "python",
   "pygments_lexer": "ipython3",
   "version": "3.10.4"
  }
 },
 "nbformat": 4,
 "nbformat_minor": 5
}
