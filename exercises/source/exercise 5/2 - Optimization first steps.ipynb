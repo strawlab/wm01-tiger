{
 "cells": [
  {
   "cell_type": "code",
   "execution_count": 1,
   "metadata": {
    "nbgrader": {
     "grade": false,
     "grade_id": "cell-e894ec2378fa46eb",
     "locked": true,
     "schema_version": 3,
     "solution": false,
     "task": false
    }
   },
   "outputs": [],
   "source": [
    "# You must run this cell, but you can ignore its contents.\n",
    "\n",
    "import hashlib\n",
    "\n",
    "def ads_hash(ty):\n",
    "    \"\"\"Return a unique string for input\"\"\"\n",
    "    ty_str = str(ty).encode()\n",
    "    m = hashlib.sha256()\n",
    "    m.update(ty_str)\n",
    "    return m.hexdigest()[:10]"
   ]
  },
  {
   "cell_type": "code",
   "execution_count": 2,
   "metadata": {
    "nbgrader": {
     "grade": false,
     "grade_id": "cell-ada87b3b188b2d39",
     "locked": true,
     "schema_version": 3,
     "solution": false,
     "task": false
    }
   },
   "outputs": [],
   "source": [
    "# You must also run this cell.\n",
    "\n",
    "import numpy as np\n",
    "import matplotlib.pyplot as plt"
   ]
  },
  {
   "cell_type": "markdown",
   "metadata": {
    "nbgrader": {
     "grade": false,
     "grade_id": "cell-d7462f8b0f718bef",
     "locked": true,
     "schema_version": 3,
     "solution": false,
     "task": false
    }
   },
   "source": [
    "# Exercise - Optimization first steps\n",
    "\n",
    "We are going to take our first steps towards optimization by returning to a bumblebee example.\n",
    "\n",
    "We are going to define the positions of a flower and the flight path of a bumblebee."
   ]
  },
  {
   "cell_type": "code",
   "execution_count": 3,
   "metadata": {
    "nbgrader": {
     "grade": false,
     "grade_id": "cell-78cb75cddd4fc5ef",
     "locked": true,
     "schema_version": 3,
     "solution": false,
     "task": false
    }
   },
   "outputs": [],
   "source": [
    "flower = np.array([7.5, 10.3])"
   ]
  },
  {
   "cell_type": "code",
   "execution_count": 4,
   "metadata": {
    "nbgrader": {
     "grade": false,
     "grade_id": "cell-ab9736432799913b",
     "locked": true,
     "schema_version": 3,
     "solution": false,
     "task": false
    }
   },
   "outputs": [],
   "source": [
    "def make_bee_track(t):\n",
    "    pos0 = (-10,3)\n",
    "    velocity = (4.0, 0.2)\n",
    "    pos_x = pos0[0] + t*velocity[0]\n",
    "    pos_y = pos0[1] + t*velocity[1]\n",
    "    return np.array([pos_x,pos_y])\n",
    "\n",
    "t = np.linspace(0,15,20)\n",
    "bee_track = make_bee_track(t)"
   ]
  },
  {
   "cell_type": "markdown",
   "metadata": {
    "nbgrader": {
     "grade": false,
     "grade_id": "cell-08928dcd585933a7",
     "locked": true,
     "schema_version": 3,
     "solution": false,
     "task": false
    }
   },
   "source": [
    "Here we plot these positions."
   ]
  },
  {
   "cell_type": "code",
   "execution_count": 5,
   "metadata": {
    "nbgrader": {
     "grade": false,
     "grade_id": "cell-4b58d56276437c3a",
     "locked": true,
     "schema_version": 3,
     "solution": false,
     "task": false
    }
   },
   "outputs": [
    {
     "data": {
      "image/png": "[encoded data removed]",
      "text/plain": [
       "<Figure size 432x288 with 1 Axes>"
      ]
     },
     "metadata": {
      "needs_background": "light"
     },
     "output_type": "display_data"
    }
   ],
   "source": [
    "fig, ax = plt.subplots(nrows=1, ncols=1)\n",
    "ax.plot( [flower[0]], [flower[1]], 'or', label='flower' )\n",
    "ax.plot( bee_track[0], bee_track[1], '.-k', label='bee')\n",
    "ax.axis('equal')\n",
    "ax.legend();"
   ]
  },
  {
   "cell_type": "markdown",
   "metadata": {
    "nbgrader": {
     "grade": false,
     "grade_id": "cell-701acd6a5b4a9581",
     "locked": true,
     "schema_version": 3,
     "solution": false,
     "task": false
    }
   },
   "source": [
    "## Q1 Draw a figure as above with, additionally, a blue line between each point on `bee_track` and `flower`.\n",
    "\n",
    "When complete, your figure should look like this:\n",
    "\n",
    "![bee-dist.png](bee-dist.png)"
   ]
  },
  {
   "cell_type": "code",
   "execution_count": 6,
   "metadata": {
    "nbgrader": {
     "grade": true,
     "grade_id": "cell-43f8774b1a82b15b",
     "locked": false,
     "points": 1,
     "schema_version": 3,
     "solution": true,
     "task": false
    }
   },
   "outputs": [
    {
     "data": {
      "image/png": "[encoded data removed]",
      "text/plain": [
       "<Figure size 432x288 with 1 Axes>"
      ]
     },
     "metadata": {
      "needs_background": "light"
     },
     "output_type": "display_data"
    }
   ],
   "source": [
    "# Your code here. Check it is correct by comparing your figure with the above.\n",
    "fig, ax = plt.subplots(nrows=1, ncols=1)\n",
    "ax.plot( [flower[0]], [flower[1]], 'or', label='flower' )\n",
    "ax.plot( bee_track[0], bee_track[1], '.-k', label='bee')\n",
    "for i in range(bee_track.shape[1]):\n",
    "    bee_pos = bee_track[:,i]\n",
    "    ax.plot( [flower[0], bee_pos[0]], [flower[1], bee_pos[1]], 'b-' )\n",
    "ax.axis('equal')\n",
    "ax.legend();\n",
    "#fig.savefig('bee-dist.png')"
   ]
  },
  {
   "cell_type": "markdown",
   "metadata": {
    "nbgrader": {
     "grade": false,
     "grade_id": "cell-45a057824a59090e",
     "locked": true,
     "schema_version": 3,
     "solution": false,
     "task": false
    }
   },
   "source": [
    "## Q2 write a function called `my_distance` which takes two arguments, each of which is a length 2 sequence of `x`, `y` position and returns the Euclidean distance between these points."
   ]
  },
  {
   "cell_type": "code",
   "execution_count": 7,
   "metadata": {
    "nbgrader": {
     "grade": false,
     "grade_id": "cell-9d86e35ff582bf8f",
     "locked": false,
     "schema_version": 3,
     "solution": true,
     "task": false
    }
   },
   "outputs": [],
   "source": [
    "def my_distance(a,b):\n",
    "    a = np.array(a)\n",
    "    b = np.array(b)\n",
    "    return np.sqrt(np.sum((a-b)**2))"
   ]
  },
  {
   "cell_type": "code",
   "execution_count": 8,
   "metadata": {
    "nbgrader": {
     "grade": true,
     "grade_id": "cell-d96cb3c1a49758db",
     "locked": true,
     "points": 0,
     "schema_version": 3,
     "solution": false,
     "task": false
    }
   },
   "outputs": [],
   "source": [
    "assert my_distance((0,0),(3,4)) == 5\n",
    "assert my_distance((3,4), (0,0)) == 5\n",
    "assert my_distance((13,14), (10,10)) == 5\n",
    "assert my_distance((10,10), (13,14)) == 5"
   ]
  },
  {
   "cell_type": "markdown",
   "metadata": {
    "nbgrader": {
     "grade": false,
     "grade_id": "cell-9426c238469156ae",
     "locked": true,
     "schema_version": 3,
     "solution": false,
     "task": false
    }
   },
   "source": [
    "## Q3 compute the distance between each point on `bee_track` and `flower`. Put the results in a 1D numpy array called `distance`.\n",
    "\n",
    "Hint: recall the function you wrote in the \"numpy basics\" exercise called `compute_distance`."
   ]
  },
  {
   "cell_type": "code",
   "execution_count": 9,
   "metadata": {
    "nbgrader": {
     "grade": false,
     "grade_id": "cell-bf78a3429e48b28d",
     "locked": false,
     "schema_version": 3,
     "solution": true,
     "task": false
    }
   },
   "outputs": [
    {
     "data": {
      "text/plain": [
       "array([18.96154002, 16.02203642, 13.18581669, 10.53661864,  8.256474  ,\n",
       "        6.73148224,  6.5154281 ,  7.71901634,  9.83412849, 12.40287921,\n",
       "       15.19694713, 18.11235632, 21.09886634, 24.13009179, 27.19108233,\n",
       "       30.27281036, 33.36953095, 36.47742595, 39.59386407, 42.71697555])"
      ]
     },
     "metadata": {},
     "output_type": "display_data"
    }
   ],
   "source": [
    "distance = np.zeros(bee_track.shape[1])\n",
    "for i in range(bee_track.shape[1]):\n",
    "    bee_pos = bee_track[:,i]\n",
    "    distance[i] = my_distance(bee_pos, flower)\n",
    "display(distance)"
   ]
  },
  {
   "cell_type": "code",
   "execution_count": 10,
   "metadata": {
    "nbgrader": {
     "grade": true,
     "grade_id": "cell-70fd1e669decb646",
     "locked": true,
     "points": 1,
     "schema_version": 3,
     "solution": false,
     "task": false
    }
   },
   "outputs": [],
   "source": [
    "# If this runs without error, it means the answer in your previous cell was correct.\n",
    "assert ads_hash(np.round(distance*1000).astype(np.int32))=='54f4f2edcb'"
   ]
  },
  {
   "cell_type": "markdown",
   "metadata": {},
   "source": [
    "## Q4 make a plot of the bee track parameter `t` on the X axis and `distance` on the Y axis.\n",
    "\n",
    "It should look like this:\n",
    "\n",
    "![t-vs-dist.png](t-vs-dist.png)"
   ]
  },
  {
   "cell_type": "code",
   "execution_count": 11,
   "metadata": {
    "nbgrader": {
     "grade": true,
     "grade_id": "cell-acdc61a7b1539944",
     "locked": false,
     "points": 1,
     "schema_version": 3,
     "solution": true,
     "task": false
    }
   },
   "outputs": [
    {
     "data": {
      "text/plain": [
       "Text(0, 0.5, 'distance')"
      ]
     },
     "execution_count": 11,
     "metadata": {},
     "output_type": "execute_result"
    },
    {
     "data": {
      "image/png": "[encoded data removed]",
      "text/plain": [
       "<Figure size 432x288 with 1 Axes>"
      ]
     },
     "metadata": {
      "needs_background": "light"
     },
     "output_type": "display_data"
    }
   ],
   "source": [
    "# Your code here. Check it is correct by comparing your figure with the above.\n",
    "fig, ax = plt.subplots(nrows=1, ncols=1)\n",
    "ax.plot( t, distance )\n",
    "ax.set_xlabel('t')\n",
    "ax.set_ylabel('distance')\n",
    "#fig.savefig('t-vs-dist.png')"
   ]
  },
  {
   "cell_type": "markdown",
   "metadata": {},
   "source": [
    "## Q5 Using `DistanceFinder` from the lecture, find the value of `t` that minimizes the distance between the bee and the flower. Save the result in `best_t`."
   ]
  },
  {
   "cell_type": "code",
   "execution_count": 12,
   "metadata": {
    "nbgrader": {
     "grade": false,
     "grade_id": "cell-23d19427610d2072",
     "locked": false,
     "schema_version": 3,
     "solution": true,
     "task": false
    }
   },
   "outputs": [
    {
     "name": "stdout",
     "output_type": "stream",
     "text": [
      "t: 0.0 -> dist: 18.96154002184422\n",
      "t: 1.0 -> dist: 15.253196386331622\n",
      "t: 2.6180339999999998 -> dist: 9.762703375781847\n",
      "t: 15.908845000462023 -> dist: 46.31882030539557\n",
      "t: 2.6180339999999998 -> dist: 9.762703375781847\n",
      "t: 7.694671914602477 -> dist: 14.474578507642399\n",
      "t: 4.55713707768905 -> dist: 6.429979961714315\n",
      "t: 4.606244750761416 -> dist: 6.44546748591665\n",
      "t: 4.427556823536537 -> dist: 6.417932686426614\n",
      "t: 3.7363806287215797 -> dist: 7.03303244654773\n",
      "t: 4.454999062553287 -> dist: 6.416983793293304\n",
      "t: 4.455122430031719 -> dist: 6.416983777420453\n",
      "t: 4.455112223273879 -> dist: 6.416983777290153\n",
      "t: 4.455112157328219 -> dist: 6.416983777290158\n",
      "t: 4.45511228921954 -> dist: 6.416983777290159\n",
      "     fun: 6.416983777290153\n",
      " message: '\\nOptimization terminated successfully;\\nThe returned value satisfies the termination criteria\\n(using xtol = 1.48e-08 )'\n",
      "    nfev: 15\n",
      "     nit: 10\n",
      " success: True\n",
      "       x: 4.455112223273879\n"
     ]
    }
   ],
   "source": [
    "# Your code here. \n",
    "\n",
    "class DistanceFinder:\n",
    "    def __init__(self, flower):\n",
    "        self.flower = flower\n",
    "    def calc_distance(self, t):\n",
    "        x1, y1 = self.flower\n",
    "        x2, y2 = make_bee_track(t)\n",
    "        dist = my_distance((x1,y1), (x2,y2))\n",
    "        print('t: {} -> dist: {}'.format(t,dist))\n",
    "        return dist\n",
    "    \n",
    "distance_finder = DistanceFinder(flower)\n",
    "\n",
    "import scipy.optimize\n",
    "result = scipy.optimize.minimize_scalar(distance_finder.calc_distance)\n",
    "print(result)\n",
    "best_t = result.x"
   ]
  },
  {
   "cell_type": "code",
   "execution_count": 13,
   "metadata": {
    "nbgrader": {
     "grade": true,
     "grade_id": "cell-0a3594afd2952a33",
     "locked": true,
     "points": 1,
     "schema_version": 3,
     "solution": false,
     "task": false
    }
   },
   "outputs": [],
   "source": [
    "# If this runs without error, it means the answer in your previous cell was correct.\n",
    "assert ads_hash(np.round(best_t*1000).astype(np.int32))=='dec1ab2f6d'"
   ]
  },
  {
   "cell_type": "code",
   "execution_count": 14,
   "metadata": {},
   "outputs": [
    {
     "data": {
      "text/plain": [
       "array([7.82044889, 3.89102244])"
      ]
     },
     "execution_count": 14,
     "metadata": {},
     "output_type": "execute_result"
    }
   ],
   "source": [
    "make_bee_track(best_t)"
   ]
  },
  {
   "cell_type": "markdown",
   "metadata": {},
   "source": [
    "## Q6 What is the position of the bee when it is closest to the flower? Save the result as a numpy array in `best_pos`."
   ]
  },
  {
   "cell_type": "code",
   "execution_count": 15,
   "metadata": {
    "nbgrader": {
     "grade": false,
     "grade_id": "cell-cac598c7f739d146",
     "locked": false,
     "schema_version": 3,
     "solution": true,
     "task": false
    }
   },
   "outputs": [],
   "source": [
    "# Your code here. \n",
    "best_pos = make_bee_track(best_t)"
   ]
  },
  {
   "cell_type": "code",
   "execution_count": 16,
   "metadata": {
    "nbgrader": {
     "grade": true,
     "grade_id": "cell-9d882991838f0996",
     "locked": true,
     "points": 1,
     "schema_version": 3,
     "solution": false,
     "task": false
    }
   },
   "outputs": [],
   "source": [
    "# If this runs without error, it means the answer in your previous cell was correct.\n",
    "assert type(best_pos)==np.ndarray\n",
    "assert best_pos.ndim==1\n",
    "assert best_pos.shape==(2,)\n",
    "assert ads_hash(np.round(best_pos[0]*1000).astype(np.int32))=='e33b9415bc'\n",
    "assert ads_hash(np.round(best_pos[1]*1000).astype(np.int32))=='f71cbfce4c'"
   ]
  }
 ],
 "metadata": {
  "celltoolbar": "Create Assignment",
  "kernelspec": {
   "display_name": "Python 3 (ipykernel)",
   "language": "python",
   "name": "python3"
  },
  "language_info": {
   "codemirror_mode": {
    "name": "ipython",
    "version": 3
   },
   "file_extension": ".py",
   "mimetype": "text/x-python",
   "name": "python",
   "nbconvert_exporter": "python",
   "pygments_lexer": "ipython3",
   "version": "3.10.4"
  }
 },
 "nbformat": 4,
 "nbformat_minor": 2
}
