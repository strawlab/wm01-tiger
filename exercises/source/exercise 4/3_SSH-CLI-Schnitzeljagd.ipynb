{
 "cells": [
  {
   "cell_type": "code",
   "execution_count": 1,
   "id": "abe9babf",
   "metadata": {
    "nbgrader": {
     "grade": false,
     "grade_id": "cell-05142c09f787bba0",
     "locked": true,
     "schema_version": 3,
     "solution": false,
     "task": false
    }
   },
   "outputs": [],
   "source": [
    "# You must run this cell, but you can ignore its contents.\n",
    "\n",
    "import hashlib\n",
    "\n",
    "def ads_hash(ty):\n",
    "    \"\"\"Return a unique string for input\"\"\"\n",
    "    ty_str = str(ty).encode()\n",
    "    m = hashlib.sha256()\n",
    "    m.update(ty_str)\n",
    "    return m.hexdigest()[:10]"
   ]
  },
  {
   "cell_type": "markdown",
   "id": "31eb869a",
   "metadata": {
    "nbgrader": {
     "grade": false,
     "grade_id": "cell-8b9d3e971dac9415",
     "locked": true,
     "schema_version": 3,
     "solution": false,
     "task": false
    }
   },
   "source": [
    "SSH to your account at `wm01-tiger.strawlab.privat` and follow the puzzle starting in the directory `/schnitzeljagd`. Place the final answer in the variable `final_answer`."
   ]
  },
  {
   "cell_type": "code",
   "execution_count": 2,
   "id": "e7575efb",
   "metadata": {
    "nbgrader": {
     "grade": false,
     "grade_id": "cell-d6b141313f4f3a09",
     "locked": false,
     "schema_version": 3,
     "solution": true,
     "task": false
    }
   },
   "outputs": [],
   "source": [
    "final_answer = \"laksdjf8alkds9339akklafk93\""
   ]
  },
  {
   "cell_type": "code",
   "execution_count": 3,
   "id": "a3ef21b2",
   "metadata": {
    "nbgrader": {
     "grade": true,
     "grade_id": "cell-3d5b7fe600c4c6ba",
     "locked": true,
     "points": 1,
     "schema_version": 3,
     "solution": false,
     "task": false
    }
   },
   "outputs": [],
   "source": [
    "assert ads_hash(final_answer) == 'b03c9d8d1c'"
   ]
  }
 ],
 "metadata": {
  "celltoolbar": "Create Assignment",
  "kernelspec": {
   "display_name": "Python 3 (ipykernel)",
   "language": "python",
   "name": "python3"
  },
  "language_info": {
   "codemirror_mode": {
    "name": "ipython",
    "version": 3
   },
   "file_extension": ".py",
   "mimetype": "text/x-python",
   "name": "python",
   "nbconvert_exporter": "python",
   "pygments_lexer": "ipython3",
   "version": "3.10.4"
  }
 },
 "nbformat": 4,
 "nbformat_minor": 5
}
